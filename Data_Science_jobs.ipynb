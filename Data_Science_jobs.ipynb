{
 "cells": [
  {
   "cell_type": "code",
   "execution_count": 1,
   "id": "d66b5403",
   "metadata": {},
   "outputs": [],
   "source": [
    "import pandas as pd\n",
    "import numpy as np\n",
    "import matplotlib.pyplot as plt \n",
    "import warnings\n",
    "warnings.filterwarnings('ignore')"
   ]
  },
  {
   "cell_type": "code",
   "execution_count": 2,
   "id": "99cd2665",
   "metadata": {
    "scrolled": true
   },
   "outputs": [
    {
     "data": {
      "text/html": [
       "<div>\n",
       "<style scoped>\n",
       "    .dataframe tbody tr th:only-of-type {\n",
       "        vertical-align: middle;\n",
       "    }\n",
       "\n",
       "    .dataframe tbody tr th {\n",
       "        vertical-align: top;\n",
       "    }\n",
       "\n",
       "    .dataframe thead th {\n",
       "        text-align: right;\n",
       "    }\n",
       "</style>\n",
       "<table border=\"1\" class=\"dataframe\">\n",
       "  <thead>\n",
       "    <tr style=\"text-align: right;\">\n",
       "      <th></th>\n",
       "      <th>Unnamed: 0</th>\n",
       "      <th>company_name</th>\n",
       "      <th>job_title</th>\n",
       "      <th>min_experience</th>\n",
       "      <th>avg_salary</th>\n",
       "      <th>min_salary</th>\n",
       "      <th>max_salary</th>\n",
       "      <th>num_of_salaries</th>\n",
       "    </tr>\n",
       "  </thead>\n",
       "  <tbody>\n",
       "    <tr>\n",
       "      <th>0</th>\n",
       "      <td>0</td>\n",
       "      <td>TCS</td>\n",
       "      <td>Data Scientist</td>\n",
       "      <td>2</td>\n",
       "      <td>7.8L</td>\n",
       "      <td>4.5L</td>\n",
       "      <td>16.0L</td>\n",
       "      <td>841</td>\n",
       "    </tr>\n",
       "    <tr>\n",
       "      <th>1</th>\n",
       "      <td>1</td>\n",
       "      <td>Accenture</td>\n",
       "      <td>Data Scientist</td>\n",
       "      <td>2</td>\n",
       "      <td>12.8L</td>\n",
       "      <td>5.8L</td>\n",
       "      <td>23.0L</td>\n",
       "      <td>501</td>\n",
       "    </tr>\n",
       "    <tr>\n",
       "      <th>2</th>\n",
       "      <td>2</td>\n",
       "      <td>IBM</td>\n",
       "      <td>Data Scientist</td>\n",
       "      <td>2</td>\n",
       "      <td>13.4L</td>\n",
       "      <td>5.3L</td>\n",
       "      <td>25.0L</td>\n",
       "      <td>394</td>\n",
       "    </tr>\n",
       "    <tr>\n",
       "      <th>3</th>\n",
       "      <td>3</td>\n",
       "      <td>Cognizant</td>\n",
       "      <td>Data Scientist</td>\n",
       "      <td>2</td>\n",
       "      <td>9.8L</td>\n",
       "      <td>5.0L</td>\n",
       "      <td>18.0L</td>\n",
       "      <td>318</td>\n",
       "    </tr>\n",
       "    <tr>\n",
       "      <th>4</th>\n",
       "      <td>4</td>\n",
       "      <td>Capgemini</td>\n",
       "      <td>Data Scientist</td>\n",
       "      <td>2</td>\n",
       "      <td>8.6L</td>\n",
       "      <td>4.8L</td>\n",
       "      <td>14.6L</td>\n",
       "      <td>300</td>\n",
       "    </tr>\n",
       "    <tr>\n",
       "      <th>...</th>\n",
       "      <td>...</td>\n",
       "      <td>...</td>\n",
       "      <td>...</td>\n",
       "      <td>...</td>\n",
       "      <td>...</td>\n",
       "      <td>...</td>\n",
       "      <td>...</td>\n",
       "      <td>...</td>\n",
       "    </tr>\n",
       "    <tr>\n",
       "      <th>1597</th>\n",
       "      <td>1597</td>\n",
       "      <td>Collabera Technologies</td>\n",
       "      <td>Data Architect</td>\n",
       "      <td>8</td>\n",
       "      <td>17.0L</td>\n",
       "      <td>12.0L</td>\n",
       "      <td>23.1L</td>\n",
       "      <td>4</td>\n",
       "    </tr>\n",
       "    <tr>\n",
       "      <th>1598</th>\n",
       "      <td>1598</td>\n",
       "      <td>Coforge</td>\n",
       "      <td>Data Architect</td>\n",
       "      <td>7</td>\n",
       "      <td>27.1L</td>\n",
       "      <td>18.5L</td>\n",
       "      <td>39.0L</td>\n",
       "      <td>4</td>\n",
       "    </tr>\n",
       "    <tr>\n",
       "      <th>1599</th>\n",
       "      <td>1599</td>\n",
       "      <td>Hitachi</td>\n",
       "      <td>Data Architect</td>\n",
       "      <td>21</td>\n",
       "      <td>40.0L</td>\n",
       "      <td>25.0L</td>\n",
       "      <td>50.0L</td>\n",
       "      <td>3</td>\n",
       "    </tr>\n",
       "    <tr>\n",
       "      <th>1600</th>\n",
       "      <td>1600</td>\n",
       "      <td>GE Power</td>\n",
       "      <td>Data Architect</td>\n",
       "      <td>7</td>\n",
       "      <td>16.7L</td>\n",
       "      <td>14.9L</td>\n",
       "      <td>19.0L</td>\n",
       "      <td>3</td>\n",
       "    </tr>\n",
       "    <tr>\n",
       "      <th>1601</th>\n",
       "      <td>1601</td>\n",
       "      <td>T-Systems</td>\n",
       "      <td>Data Architect</td>\n",
       "      <td>16</td>\n",
       "      <td>33.3L</td>\n",
       "      <td>33.0L</td>\n",
       "      <td>34.0L</td>\n",
       "      <td>3</td>\n",
       "    </tr>\n",
       "  </tbody>\n",
       "</table>\n",
       "<p>1602 rows × 8 columns</p>\n",
       "</div>"
      ],
      "text/plain": [
       "      Unnamed: 0            company_name       job_title min_experience  \\\n",
       "0              0                     TCS  Data Scientist              2   \n",
       "1              1               Accenture  Data Scientist              2   \n",
       "2              2                     IBM  Data Scientist              2   \n",
       "3              3               Cognizant  Data Scientist              2   \n",
       "4              4               Capgemini  Data Scientist              2   \n",
       "...          ...                     ...             ...            ...   \n",
       "1597        1597  Collabera Technologies  Data Architect              8   \n",
       "1598        1598                 Coforge  Data Architect              7   \n",
       "1599        1599                 Hitachi  Data Architect             21   \n",
       "1600        1600                GE Power  Data Architect              7   \n",
       "1601        1601               T-Systems  Data Architect             16   \n",
       "\n",
       "     avg_salary min_salary max_salary  num_of_salaries  \n",
       "0          7.8L       4.5L      16.0L              841  \n",
       "1         12.8L       5.8L      23.0L              501  \n",
       "2         13.4L       5.3L      25.0L              394  \n",
       "3          9.8L       5.0L      18.0L              318  \n",
       "4          8.6L       4.8L      14.6L              300  \n",
       "...         ...        ...        ...              ...  \n",
       "1597      17.0L      12.0L      23.1L                4  \n",
       "1598      27.1L      18.5L      39.0L                4  \n",
       "1599      40.0L      25.0L      50.0L                3  \n",
       "1600      16.7L      14.9L      19.0L                3  \n",
       "1601      33.3L      33.0L      34.0L                3  \n",
       "\n",
       "[1602 rows x 8 columns]"
      ]
     },
     "execution_count": 2,
     "metadata": {},
     "output_type": "execute_result"
    }
   ],
   "source": [
    "DS_jobs=pd.read_csv(\"C:\\\\Users\\\\ADMIN\\\\Desktop\\\\Projects\\\\Project 2 D.S jobs\\\\Data_Science_Jobs_in_India.csv\")\n",
    "DS_jobs"
   ]
  },
  {
   "cell_type": "code",
   "execution_count": 3,
   "id": "40423d1a",
   "metadata": {},
   "outputs": [
    {
     "data": {
      "text/html": [
       "<div>\n",
       "<style scoped>\n",
       "    .dataframe tbody tr th:only-of-type {\n",
       "        vertical-align: middle;\n",
       "    }\n",
       "\n",
       "    .dataframe tbody tr th {\n",
       "        vertical-align: top;\n",
       "    }\n",
       "\n",
       "    .dataframe thead th {\n",
       "        text-align: right;\n",
       "    }\n",
       "</style>\n",
       "<table border=\"1\" class=\"dataframe\">\n",
       "  <thead>\n",
       "    <tr style=\"text-align: right;\">\n",
       "      <th></th>\n",
       "      <th>Unnamed: 0</th>\n",
       "      <th>company_name</th>\n",
       "      <th>job_title</th>\n",
       "      <th>min_experience</th>\n",
       "      <th>avg_salary</th>\n",
       "      <th>min_salary</th>\n",
       "      <th>max_salary</th>\n",
       "      <th>num_of_salaries</th>\n",
       "    </tr>\n",
       "  </thead>\n",
       "  <tbody>\n",
       "    <tr>\n",
       "      <th>0</th>\n",
       "      <td>0</td>\n",
       "      <td>TCS</td>\n",
       "      <td>Data Scientist</td>\n",
       "      <td>2</td>\n",
       "      <td>7.8L</td>\n",
       "      <td>4.5L</td>\n",
       "      <td>16.0L</td>\n",
       "      <td>841</td>\n",
       "    </tr>\n",
       "    <tr>\n",
       "      <th>1</th>\n",
       "      <td>1</td>\n",
       "      <td>Accenture</td>\n",
       "      <td>Data Scientist</td>\n",
       "      <td>2</td>\n",
       "      <td>12.8L</td>\n",
       "      <td>5.8L</td>\n",
       "      <td>23.0L</td>\n",
       "      <td>501</td>\n",
       "    </tr>\n",
       "    <tr>\n",
       "      <th>2</th>\n",
       "      <td>2</td>\n",
       "      <td>IBM</td>\n",
       "      <td>Data Scientist</td>\n",
       "      <td>2</td>\n",
       "      <td>13.4L</td>\n",
       "      <td>5.3L</td>\n",
       "      <td>25.0L</td>\n",
       "      <td>394</td>\n",
       "    </tr>\n",
       "    <tr>\n",
       "      <th>3</th>\n",
       "      <td>3</td>\n",
       "      <td>Cognizant</td>\n",
       "      <td>Data Scientist</td>\n",
       "      <td>2</td>\n",
       "      <td>9.8L</td>\n",
       "      <td>5.0L</td>\n",
       "      <td>18.0L</td>\n",
       "      <td>318</td>\n",
       "    </tr>\n",
       "    <tr>\n",
       "      <th>4</th>\n",
       "      <td>4</td>\n",
       "      <td>Capgemini</td>\n",
       "      <td>Data Scientist</td>\n",
       "      <td>2</td>\n",
       "      <td>8.6L</td>\n",
       "      <td>4.8L</td>\n",
       "      <td>14.6L</td>\n",
       "      <td>300</td>\n",
       "    </tr>\n",
       "  </tbody>\n",
       "</table>\n",
       "</div>"
      ],
      "text/plain": [
       "   Unnamed: 0 company_name       job_title min_experience avg_salary  \\\n",
       "0           0          TCS  Data Scientist              2       7.8L   \n",
       "1           1    Accenture  Data Scientist              2      12.8L   \n",
       "2           2          IBM  Data Scientist              2      13.4L   \n",
       "3           3    Cognizant  Data Scientist              2       9.8L   \n",
       "4           4    Capgemini  Data Scientist              2       8.6L   \n",
       "\n",
       "  min_salary max_salary  num_of_salaries  \n",
       "0       4.5L      16.0L              841  \n",
       "1       5.8L      23.0L              501  \n",
       "2       5.3L      25.0L              394  \n",
       "3       5.0L      18.0L              318  \n",
       "4       4.8L      14.6L              300  "
      ]
     },
     "execution_count": 3,
     "metadata": {},
     "output_type": "execute_result"
    }
   ],
   "source": [
    "DS_jobs.head()"
   ]
  },
  {
   "cell_type": "code",
   "execution_count": 4,
   "id": "bb7d3bf6",
   "metadata": {
    "scrolled": true
   },
   "outputs": [
    {
     "data": {
      "text/plain": [
       "Index(['Unnamed: 0', 'company_name', 'job_title', 'min_experience',\n",
       "       'avg_salary', 'min_salary', 'max_salary', 'num_of_salaries'],\n",
       "      dtype='object')"
      ]
     },
     "execution_count": 4,
     "metadata": {},
     "output_type": "execute_result"
    }
   ],
   "source": [
    "DS_jobs.columns"
   ]
  },
  {
   "cell_type": "code",
   "execution_count": 5,
   "id": "0dd536f7",
   "metadata": {},
   "outputs": [],
   "source": [
    "DS_jobs=DS_jobs[['company_name', 'job_title', 'min_experience',\n",
    "       'avg_salary', 'min_salary', 'max_salary', 'num_of_salaries']]"
   ]
  },
  {
   "cell_type": "code",
   "execution_count": 6,
   "id": "607c4737",
   "metadata": {
    "scrolled": true
   },
   "outputs": [
    {
     "name": "stdout",
     "output_type": "stream",
     "text": [
      "<class 'pandas.core.frame.DataFrame'>\n",
      "RangeIndex: 1602 entries, 0 to 1601\n",
      "Data columns (total 7 columns):\n",
      " #   Column           Non-Null Count  Dtype \n",
      "---  ------           --------------  ----- \n",
      " 0   company_name     1602 non-null   object\n",
      " 1   job_title        1602 non-null   object\n",
      " 2   min_experience   1602 non-null   object\n",
      " 3   avg_salary       1602 non-null   object\n",
      " 4   min_salary       1602 non-null   object\n",
      " 5   max_salary       1602 non-null   object\n",
      " 6   num_of_salaries  1602 non-null   int64 \n",
      "dtypes: int64(1), object(6)\n",
      "memory usage: 87.7+ KB\n"
     ]
    }
   ],
   "source": [
    "DS_jobs.info()"
   ]
  },
  {
   "cell_type": "code",
   "execution_count": 7,
   "id": "060cef42",
   "metadata": {},
   "outputs": [
    {
     "data": {
      "text/plain": [
       "0"
      ]
     },
     "execution_count": 7,
     "metadata": {},
     "output_type": "execute_result"
    }
   ],
   "source": [
    "DS_jobs.duplicated().sum()"
   ]
  },
  {
   "cell_type": "code",
   "execution_count": 8,
   "id": "346aa82c",
   "metadata": {
    "scrolled": true
   },
   "outputs": [
    {
     "data": {
      "text/plain": [
       "company_name       object\n",
       "job_title          object\n",
       "min_experience     object\n",
       "avg_salary         object\n",
       "min_salary         object\n",
       "max_salary         object\n",
       "num_of_salaries     int64\n",
       "dtype: object"
      ]
     },
     "execution_count": 8,
     "metadata": {},
     "output_type": "execute_result"
    }
   ],
   "source": [
    "DS_jobs.dtypes"
   ]
  },
  {
   "cell_type": "code",
   "execution_count": 9,
   "id": "3de674ce",
   "metadata": {
    "scrolled": true
   },
   "outputs": [],
   "source": [
    "DS_jobs['min_experience']=DS_jobs['min_experience'].str.replace(r'[*&#]','',regex=True)\n",
    "DS_jobs['avg_salary']=DS_jobs['avg_salary'].str.replace('L','',regex=True)\n",
    "DS_jobs['min_salary']=DS_jobs['min_salary'].str.replace('L','',regex=True)\n",
    "DS_jobs['max_salary']=DS_jobs['max_salary'].str.replace('L','',regex=True)"
   ]
  },
  {
   "cell_type": "code",
   "execution_count": 10,
   "id": "0120b804",
   "metadata": {},
   "outputs": [
    {
     "data": {
      "text/plain": [
       "company_name         L&T Infotech\n",
       "job_title          Data Scientist\n",
       "min_experience                  2\n",
       "avg_salary                   11.6\n",
       "min_salary                    6.5\n",
       "max_salary                   20.9\n",
       "num_of_salaries               102\n",
       "Name: 16, dtype: object"
      ]
     },
     "execution_count": 10,
     "metadata": {},
     "output_type": "execute_result"
    }
   ],
   "source": [
    "DS_jobs.loc[16]"
   ]
  },
  {
   "cell_type": "code",
   "execution_count": 11,
   "id": "009d2b9d",
   "metadata": {},
   "outputs": [],
   "source": [
    "DS_jobs['min_experience']=pd.to_numeric(DS_jobs['min_experience'])\n",
    "DS_jobs['avg_salary']=pd.to_numeric(DS_jobs['avg_salary'])*100000\n",
    "DS_jobs['min_salary']=pd.to_numeric(DS_jobs['min_salary'])*100000  \n",
    "DS_jobs['max_salary']=pd.to_numeric(DS_jobs['max_salary'])*100000"
   ]
  },
  {
   "cell_type": "code",
   "execution_count": 12,
   "id": "84dd9f05",
   "metadata": {
    "scrolled": false
   },
   "outputs": [
    {
     "data": {
      "text/plain": [
       "company_name        object\n",
       "job_title           object\n",
       "min_experience       int64\n",
       "avg_salary         float64\n",
       "min_salary         float64\n",
       "max_salary         float64\n",
       "num_of_salaries      int64\n",
       "dtype: object"
      ]
     },
     "execution_count": 12,
     "metadata": {},
     "output_type": "execute_result"
    }
   ],
   "source": [
    "DS_jobs.dtypes"
   ]
  },
  {
   "cell_type": "markdown",
   "id": "ae2b8c0e",
   "metadata": {},
   "source": [
    "## Outlier handling"
   ]
  },
  {
   "cell_type": "code",
   "execution_count": 13,
   "id": "1a877e1c",
   "metadata": {},
   "outputs": [
    {
     "data": {
      "text/plain": [
       "39"
      ]
     },
     "execution_count": 13,
     "metadata": {},
     "output_type": "execute_result"
    }
   ],
   "source": [
    "Q1=DS_jobs['avg_salary'].quantile(0.25)\n",
    "Q3=DS_jobs['avg_salary'].quantile(0.75)\n",
    "IQR=Q3-Q1\n",
    "\n",
    "lower_bound= Q1 - 1.5 * IQR\n",
    "upper_bound= Q3 + 1.5 * IQR\n",
    "\n",
    "outliers= DS_jobs[(DS_jobs['avg_salary'] < lower_bound)| (DS_jobs['avg_salary']> upper_bound)]\n",
    "# print(f'outliers ditected: {outliers}')\n",
    "# print(lower_bound)\n",
    "# print(upper_bound)\n",
    "len(outliers)"
   ]
  },
  {
   "cell_type": "code",
   "execution_count": 1,
   "id": "c67ab9bc",
   "metadata": {
    "scrolled": true
   },
   "outputs": [],
   "source": [
    "# DS_jobs[DS_jobs['avg_salary'] > upper_bound]\n",
    "# len(DS_jobs[DS_jobs['avg_salary'] > upper_bound])"
   ]
  },
  {
   "cell_type": "code",
   "execution_count": 15,
   "id": "77a16e0c",
   "metadata": {},
   "outputs": [
    {
     "data": {
      "text/plain": [
       "49"
      ]
     },
     "execution_count": 15,
     "metadata": {},
     "output_type": "execute_result"
    }
   ],
   "source": [
    "Q1=DS_jobs['min_salary'].quantile(0.25)\n",
    "Q3=DS_jobs['min_salary'].quantile(0.75)\n",
    "IQR=Q3-Q1\n",
    "\n",
    "lower_bound= Q1 - 1.5 * IQR\n",
    "upper_bound= Q3 + 1.5 * IQR\n",
    "\n",
    "outliers= DS_jobs[(DS_jobs['min_salary'] < lower_bound)| (DS_jobs['min_salary']> upper_bound)]\n",
    "# print(f'outliers ditected: {outliers}')\n",
    "# print(lower_bound)\n",
    "# print(upper_bound)\n",
    "len(outliers)"
   ]
  },
  {
   "cell_type": "code",
   "execution_count": 16,
   "id": "bef23308",
   "metadata": {},
   "outputs": [
    {
     "data": {
      "text/plain": [
       "40"
      ]
     },
     "execution_count": 16,
     "metadata": {},
     "output_type": "execute_result"
    }
   ],
   "source": [
    "Q1=DS_jobs['max_salary'].quantile(0.25)\n",
    "Q3=DS_jobs['max_salary'].quantile(0.75)\n",
    "IQR=Q3-Q1\n",
    "\n",
    "lower_bound= Q1 - 1.5 * IQR\n",
    "upper_bound= Q3 + 1.5 * IQR\n",
    "\n",
    "outliers= DS_jobs[(DS_jobs['max_salary'] < lower_bound)| (DS_jobs['max_salary']> upper_bound)]\n",
    "# print(f'outliers ditected: {outliers}')\n",
    "# print(lower_bound)\n",
    "# print(upper_bound)\n",
    "len(outliers)"
   ]
  },
  {
   "cell_type": "code",
   "execution_count": 17,
   "id": "65e71eb5",
   "metadata": {
    "scrolled": false
   },
   "outputs": [
    {
     "data": {
      "text/html": [
       "<div>\n",
       "<style scoped>\n",
       "    .dataframe tbody tr th:only-of-type {\n",
       "        vertical-align: middle;\n",
       "    }\n",
       "\n",
       "    .dataframe tbody tr th {\n",
       "        vertical-align: top;\n",
       "    }\n",
       "\n",
       "    .dataframe thead th {\n",
       "        text-align: right;\n",
       "    }\n",
       "</style>\n",
       "<table border=\"1\" class=\"dataframe\">\n",
       "  <thead>\n",
       "    <tr style=\"text-align: right;\">\n",
       "      <th></th>\n",
       "      <th>company_name</th>\n",
       "      <th>job_title</th>\n",
       "      <th>min_experience</th>\n",
       "      <th>avg_salary</th>\n",
       "      <th>min_salary</th>\n",
       "      <th>max_salary</th>\n",
       "      <th>num_of_salaries</th>\n",
       "    </tr>\n",
       "  </thead>\n",
       "  <tbody>\n",
       "    <tr>\n",
       "      <th>0</th>\n",
       "      <td>TCS</td>\n",
       "      <td>Data Scientist</td>\n",
       "      <td>2</td>\n",
       "      <td>780000.0</td>\n",
       "      <td>450000.0</td>\n",
       "      <td>1600000.0</td>\n",
       "      <td>841</td>\n",
       "    </tr>\n",
       "    <tr>\n",
       "      <th>1</th>\n",
       "      <td>Accenture</td>\n",
       "      <td>Data Scientist</td>\n",
       "      <td>2</td>\n",
       "      <td>1280000.0</td>\n",
       "      <td>580000.0</td>\n",
       "      <td>2300000.0</td>\n",
       "      <td>501</td>\n",
       "    </tr>\n",
       "    <tr>\n",
       "      <th>2</th>\n",
       "      <td>IBM</td>\n",
       "      <td>Data Scientist</td>\n",
       "      <td>2</td>\n",
       "      <td>1340000.0</td>\n",
       "      <td>530000.0</td>\n",
       "      <td>2500000.0</td>\n",
       "      <td>394</td>\n",
       "    </tr>\n",
       "    <tr>\n",
       "      <th>3</th>\n",
       "      <td>Cognizant</td>\n",
       "      <td>Data Scientist</td>\n",
       "      <td>2</td>\n",
       "      <td>980000.0</td>\n",
       "      <td>500000.0</td>\n",
       "      <td>1800000.0</td>\n",
       "      <td>318</td>\n",
       "    </tr>\n",
       "    <tr>\n",
       "      <th>4</th>\n",
       "      <td>Capgemini</td>\n",
       "      <td>Data Scientist</td>\n",
       "      <td>2</td>\n",
       "      <td>860000.0</td>\n",
       "      <td>480000.0</td>\n",
       "      <td>1460000.0</td>\n",
       "      <td>300</td>\n",
       "    </tr>\n",
       "  </tbody>\n",
       "</table>\n",
       "</div>"
      ],
      "text/plain": [
       "  company_name       job_title  min_experience  avg_salary  min_salary  \\\n",
       "0          TCS  Data Scientist               2    780000.0    450000.0   \n",
       "1    Accenture  Data Scientist               2   1280000.0    580000.0   \n",
       "2          IBM  Data Scientist               2   1340000.0    530000.0   \n",
       "3    Cognizant  Data Scientist               2    980000.0    500000.0   \n",
       "4    Capgemini  Data Scientist               2    860000.0    480000.0   \n",
       "\n",
       "   max_salary  num_of_salaries  \n",
       "0   1600000.0              841  \n",
       "1   2300000.0              501  \n",
       "2   2500000.0              394  \n",
       "3   1800000.0              318  \n",
       "4   1460000.0              300  "
      ]
     },
     "execution_count": 17,
     "metadata": {},
     "output_type": "execute_result"
    }
   ],
   "source": [
    "DS_jobs.head()"
   ]
  },
  {
   "cell_type": "markdown",
   "id": "7a0b7522",
   "metadata": {},
   "source": [
    "## Problem Statement 1 : Experience vs. Salary Trends"
   ]
  },
  {
   "cell_type": "markdown",
   "id": "d1f7ce35",
   "metadata": {},
   "source": [
    "### 1. Are there any outliers in salary for specific experience levels?"
   ]
  },
  {
   "cell_type": "code",
   "execution_count": 18,
   "id": "f03677f3",
   "metadata": {
    "scrolled": false
   },
   "outputs": [
    {
     "data": {
      "image/png": "[encoded data removed]",
      "text/plain": [
       "<Figure size 1200x600 with 1 Axes>"
      ]
     },
     "metadata": {},
     "output_type": "display_data"
    }
   ],
   "source": [
    "import seaborn as sns\n",
    "import matplotlib.pyplot as plt\n",
    "\n",
    "# Boxplot to identify outliers visually\n",
    "Box_plot=DS_jobs\n",
    "plt.figure(figsize=(12,6))\n",
    "sns.boxplot(x='min_experience', y='avg_salary', data=Box_plot)\n",
    "plt.title('Boxplot of Average Salary by Experience Level')\n",
    "plt.ticklabel_format(style='plain', axis='y')\n",
    "plt.show()\n",
    "\n"
   ]
  },
  {
   "cell_type": "code",
   "execution_count": 19,
   "id": "f6fbf53b",
   "metadata": {},
   "outputs": [
    {
     "data": {
      "text/html": [
       "<div>\n",
       "<style scoped>\n",
       "    .dataframe tbody tr th:only-of-type {\n",
       "        vertical-align: middle;\n",
       "    }\n",
       "\n",
       "    .dataframe tbody tr th {\n",
       "        vertical-align: top;\n",
       "    }\n",
       "\n",
       "    .dataframe thead th {\n",
       "        text-align: right;\n",
       "    }\n",
       "</style>\n",
       "<table border=\"1\" class=\"dataframe\">\n",
       "  <thead>\n",
       "    <tr style=\"text-align: right;\">\n",
       "      <th></th>\n",
       "      <th>company_name</th>\n",
       "      <th>job_title</th>\n",
       "      <th>min_experience</th>\n",
       "      <th>avg_salary</th>\n",
       "      <th>min_salary</th>\n",
       "      <th>max_salary</th>\n",
       "      <th>num_of_salaries</th>\n",
       "    </tr>\n",
       "  </thead>\n",
       "  <tbody>\n",
       "    <tr>\n",
       "      <th>0</th>\n",
       "      <td>Flipkart</td>\n",
       "      <td>Data Scientist</td>\n",
       "      <td>0</td>\n",
       "      <td>2320000.0</td>\n",
       "      <td>1470000.0</td>\n",
       "      <td>4200000.0</td>\n",
       "      <td>37</td>\n",
       "    </tr>\n",
       "    <tr>\n",
       "      <th>1</th>\n",
       "      <td>Autodesk</td>\n",
       "      <td>Data Engineer</td>\n",
       "      <td>0</td>\n",
       "      <td>2650000.0</td>\n",
       "      <td>640000.0</td>\n",
       "      <td>4000000.0</td>\n",
       "      <td>11</td>\n",
       "    </tr>\n",
       "    <tr>\n",
       "      <th>2</th>\n",
       "      <td>HSBC</td>\n",
       "      <td>Senior Data Scientist</td>\n",
       "      <td>0</td>\n",
       "      <td>2460000.0</td>\n",
       "      <td>2200000.0</td>\n",
       "      <td>2800000.0</td>\n",
       "      <td>5</td>\n",
       "    </tr>\n",
       "    <tr>\n",
       "      <th>3</th>\n",
       "      <td>Qualcomm</td>\n",
       "      <td>Machine Learning Engineer</td>\n",
       "      <td>0</td>\n",
       "      <td>1940000.0</td>\n",
       "      <td>1200000.0</td>\n",
       "      <td>2980000.0</td>\n",
       "      <td>12</td>\n",
       "    </tr>\n",
       "    <tr>\n",
       "      <th>4</th>\n",
       "      <td>Microsoft Corporation</td>\n",
       "      <td>Data Scientist</td>\n",
       "      <td>1</td>\n",
       "      <td>3210000.0</td>\n",
       "      <td>1300000.0</td>\n",
       "      <td>6000000.0</td>\n",
       "      <td>81</td>\n",
       "    </tr>\n",
       "    <tr>\n",
       "      <th>5</th>\n",
       "      <td>CARS24.com</td>\n",
       "      <td>Data Scientist</td>\n",
       "      <td>1</td>\n",
       "      <td>2030000.0</td>\n",
       "      <td>1450000.0</td>\n",
       "      <td>2400000.0</td>\n",
       "      <td>18</td>\n",
       "    </tr>\n",
       "    <tr>\n",
       "      <th>6</th>\n",
       "      <td>Boeing</td>\n",
       "      <td>Data Scientist</td>\n",
       "      <td>1</td>\n",
       "      <td>1940000.0</td>\n",
       "      <td>1350000.0</td>\n",
       "      <td>3500000.0</td>\n",
       "      <td>17</td>\n",
       "    </tr>\n",
       "    <tr>\n",
       "      <th>7</th>\n",
       "      <td>Ola Cabs</td>\n",
       "      <td>Data Scientist</td>\n",
       "      <td>1</td>\n",
       "      <td>2190000.0</td>\n",
       "      <td>1300000.0</td>\n",
       "      <td>3000000.0</td>\n",
       "      <td>13</td>\n",
       "    </tr>\n",
       "    <tr>\n",
       "      <th>8</th>\n",
       "      <td>Adidas</td>\n",
       "      <td>Data Engineer</td>\n",
       "      <td>1</td>\n",
       "      <td>2300000.0</td>\n",
       "      <td>1450000.0</td>\n",
       "      <td>3400000.0</td>\n",
       "      <td>13</td>\n",
       "    </tr>\n",
       "    <tr>\n",
       "      <th>9</th>\n",
       "      <td>Visa</td>\n",
       "      <td>Data Engineer</td>\n",
       "      <td>1</td>\n",
       "      <td>2870000.0</td>\n",
       "      <td>1650000.0</td>\n",
       "      <td>3700000.0</td>\n",
       "      <td>11</td>\n",
       "    </tr>\n",
       "    <tr>\n",
       "      <th>10</th>\n",
       "      <td>Info Edge</td>\n",
       "      <td>Senior Data Scientist</td>\n",
       "      <td>1</td>\n",
       "      <td>3090000.0</td>\n",
       "      <td>2100000.0</td>\n",
       "      <td>3700000.0</td>\n",
       "      <td>8</td>\n",
       "    </tr>\n",
       "    <tr>\n",
       "      <th>11</th>\n",
       "      <td>Bajaj Finance</td>\n",
       "      <td>Senior Data Scientist</td>\n",
       "      <td>1</td>\n",
       "      <td>2000000.0</td>\n",
       "      <td>1600000.0</td>\n",
       "      <td>3000000.0</td>\n",
       "      <td>7</td>\n",
       "    </tr>\n",
       "    <tr>\n",
       "      <th>12</th>\n",
       "      <td>Mobile Premier League</td>\n",
       "      <td>Senior Data Analyst</td>\n",
       "      <td>1</td>\n",
       "      <td>2520000.0</td>\n",
       "      <td>2000000.0</td>\n",
       "      <td>2800000.0</td>\n",
       "      <td>7</td>\n",
       "    </tr>\n",
       "    <tr>\n",
       "      <th>13</th>\n",
       "      <td>Oracle</td>\n",
       "      <td>Machine Learning Engineer</td>\n",
       "      <td>1</td>\n",
       "      <td>2070000.0</td>\n",
       "      <td>2000000.0</td>\n",
       "      <td>2200000.0</td>\n",
       "      <td>6</td>\n",
       "    </tr>\n",
       "    <tr>\n",
       "      <th>14</th>\n",
       "      <td>Amazon</td>\n",
       "      <td>Data Scientist</td>\n",
       "      <td>2</td>\n",
       "      <td>2810000.0</td>\n",
       "      <td>950000.0</td>\n",
       "      <td>5000000.0</td>\n",
       "      <td>140</td>\n",
       "    </tr>\n",
       "    <tr>\n",
       "      <th>15</th>\n",
       "      <td>Walmart</td>\n",
       "      <td>Data Scientist</td>\n",
       "      <td>2</td>\n",
       "      <td>2830000.0</td>\n",
       "      <td>1780000.0</td>\n",
       "      <td>4100000.0</td>\n",
       "      <td>85</td>\n",
       "    </tr>\n",
       "    <tr>\n",
       "      <th>16</th>\n",
       "      <td>Apple</td>\n",
       "      <td>Data Scientist</td>\n",
       "      <td>2</td>\n",
       "      <td>3360000.0</td>\n",
       "      <td>820000.0</td>\n",
       "      <td>7450000.0</td>\n",
       "      <td>15</td>\n",
       "    </tr>\n",
       "    <tr>\n",
       "      <th>17</th>\n",
       "      <td>Blue Yonder</td>\n",
       "      <td>Senior Data Scientist</td>\n",
       "      <td>2</td>\n",
       "      <td>3160000.0</td>\n",
       "      <td>1800000.0</td>\n",
       "      <td>5000000.0</td>\n",
       "      <td>17</td>\n",
       "    </tr>\n",
       "    <tr>\n",
       "      <th>18</th>\n",
       "      <td>MasterCard</td>\n",
       "      <td>Senior Data Scientist</td>\n",
       "      <td>2</td>\n",
       "      <td>2550000.0</td>\n",
       "      <td>1820000.0</td>\n",
       "      <td>3600000.0</td>\n",
       "      <td>12</td>\n",
       "    </tr>\n",
       "    <tr>\n",
       "      <th>19</th>\n",
       "      <td>Algonomy</td>\n",
       "      <td>Senior Data Scientist</td>\n",
       "      <td>2</td>\n",
       "      <td>2830000.0</td>\n",
       "      <td>2300000.0</td>\n",
       "      <td>3200000.0</td>\n",
       "      <td>6</td>\n",
       "    </tr>\n",
       "    <tr>\n",
       "      <th>20</th>\n",
       "      <td>Yodlee</td>\n",
       "      <td>Senior Data Scientist</td>\n",
       "      <td>2</td>\n",
       "      <td>3210000.0</td>\n",
       "      <td>2700000.0</td>\n",
       "      <td>3600000.0</td>\n",
       "      <td>5</td>\n",
       "    </tr>\n",
       "    <tr>\n",
       "      <th>21</th>\n",
       "      <td>HALODOC</td>\n",
       "      <td>Senior Data Scientist</td>\n",
       "      <td>2</td>\n",
       "      <td>2740000.0</td>\n",
       "      <td>1800000.0</td>\n",
       "      <td>3800000.0</td>\n",
       "      <td>5</td>\n",
       "    </tr>\n",
       "    <tr>\n",
       "      <th>22</th>\n",
       "      <td>Samsung Research</td>\n",
       "      <td>Senior Data Scientist</td>\n",
       "      <td>2</td>\n",
       "      <td>3170000.0</td>\n",
       "      <td>2050000.0</td>\n",
       "      <td>4000000.0</td>\n",
       "      <td>5</td>\n",
       "    </tr>\n",
       "    <tr>\n",
       "      <th>23</th>\n",
       "      <td>Go-Jek</td>\n",
       "      <td>Data Scientist</td>\n",
       "      <td>3</td>\n",
       "      <td>3050000.0</td>\n",
       "      <td>1650000.0</td>\n",
       "      <td>4400000.0</td>\n",
       "      <td>15</td>\n",
       "    </tr>\n",
       "    <tr>\n",
       "      <th>24</th>\n",
       "      <td>Google</td>\n",
       "      <td>Data Engineer</td>\n",
       "      <td>3</td>\n",
       "      <td>4530000.0</td>\n",
       "      <td>1650000.0</td>\n",
       "      <td>9350000.0</td>\n",
       "      <td>16</td>\n",
       "    </tr>\n",
       "    <tr>\n",
       "      <th>25</th>\n",
       "      <td>Paytm</td>\n",
       "      <td>Senior Data Scientist</td>\n",
       "      <td>3</td>\n",
       "      <td>3160000.0</td>\n",
       "      <td>2700000.0</td>\n",
       "      <td>4000000.0</td>\n",
       "      <td>6</td>\n",
       "    </tr>\n",
       "    <tr>\n",
       "      <th>26</th>\n",
       "      <td>Oyo Rooms</td>\n",
       "      <td>Senior Data Scientist</td>\n",
       "      <td>3</td>\n",
       "      <td>3100000.0</td>\n",
       "      <td>2000000.0</td>\n",
       "      <td>4200000.0</td>\n",
       "      <td>5</td>\n",
       "    </tr>\n",
       "    <tr>\n",
       "      <th>27</th>\n",
       "      <td>Kyndryl</td>\n",
       "      <td>Senior Data Scientist</td>\n",
       "      <td>3</td>\n",
       "      <td>4440000.0</td>\n",
       "      <td>1160000.0</td>\n",
       "      <td>9300000.0</td>\n",
       "      <td>5</td>\n",
       "    </tr>\n",
       "    <tr>\n",
       "      <th>28</th>\n",
       "      <td>Chegg</td>\n",
       "      <td>Senior Data Scientist</td>\n",
       "      <td>3</td>\n",
       "      <td>3220000.0</td>\n",
       "      <td>2990000.0</td>\n",
       "      <td>3500000.0</td>\n",
       "      <td>5</td>\n",
       "    </tr>\n",
       "    <tr>\n",
       "      <th>29</th>\n",
       "      <td>Microsoft Corporation</td>\n",
       "      <td>Senior Data Scientist</td>\n",
       "      <td>4</td>\n",
       "      <td>5640000.0</td>\n",
       "      <td>3000000.0</td>\n",
       "      <td>10000000.0</td>\n",
       "      <td>22</td>\n",
       "    </tr>\n",
       "    <tr>\n",
       "      <th>30</th>\n",
       "      <td>Innova Solutions</td>\n",
       "      <td>Senior Data Scientist</td>\n",
       "      <td>4</td>\n",
       "      <td>3970000.0</td>\n",
       "      <td>600000.0</td>\n",
       "      <td>9700000.0</td>\n",
       "      <td>5</td>\n",
       "    </tr>\n",
       "    <tr>\n",
       "      <th>31</th>\n",
       "      <td>Koch Business Solutions</td>\n",
       "      <td>Senior Data Scientist</td>\n",
       "      <td>4</td>\n",
       "      <td>3960000.0</td>\n",
       "      <td>2300000.0</td>\n",
       "      <td>5100000.0</td>\n",
       "      <td>5</td>\n",
       "    </tr>\n",
       "    <tr>\n",
       "      <th>32</th>\n",
       "      <td>Commonwealth Bank of Australia</td>\n",
       "      <td>Senior Data Scientist</td>\n",
       "      <td>4</td>\n",
       "      <td>3180000.0</td>\n",
       "      <td>2700000.0</td>\n",
       "      <td>3500000.0</td>\n",
       "      <td>4</td>\n",
       "    </tr>\n",
       "    <tr>\n",
       "      <th>33</th>\n",
       "      <td>Walmart</td>\n",
       "      <td>Senior Data Scientist</td>\n",
       "      <td>5</td>\n",
       "      <td>4300000.0</td>\n",
       "      <td>3000000.0</td>\n",
       "      <td>6500000.0</td>\n",
       "      <td>32</td>\n",
       "    </tr>\n",
       "    <tr>\n",
       "      <th>34</th>\n",
       "      <td>Amazon</td>\n",
       "      <td>Senior Data Scientist</td>\n",
       "      <td>5</td>\n",
       "      <td>4150000.0</td>\n",
       "      <td>2600000.0</td>\n",
       "      <td>7500000.0</td>\n",
       "      <td>30</td>\n",
       "    </tr>\n",
       "    <tr>\n",
       "      <th>35</th>\n",
       "      <td>Flipkart</td>\n",
       "      <td>Senior Data Scientist</td>\n",
       "      <td>5</td>\n",
       "      <td>8200000.0</td>\n",
       "      <td>5500000.0</td>\n",
       "      <td>10000000.0</td>\n",
       "      <td>5</td>\n",
       "    </tr>\n",
       "    <tr>\n",
       "      <th>36</th>\n",
       "      <td>NIKE</td>\n",
       "      <td>Senior Data Engineer</td>\n",
       "      <td>5</td>\n",
       "      <td>3100000.0</td>\n",
       "      <td>2700000.0</td>\n",
       "      <td>3500000.0</td>\n",
       "      <td>16</td>\n",
       "    </tr>\n",
       "    <tr>\n",
       "      <th>37</th>\n",
       "      <td>Roche Diagnostics</td>\n",
       "      <td>Senior Data Engineer</td>\n",
       "      <td>5</td>\n",
       "      <td>3310000.0</td>\n",
       "      <td>2350000.0</td>\n",
       "      <td>4300000.0</td>\n",
       "      <td>4</td>\n",
       "    </tr>\n",
       "    <tr>\n",
       "      <th>38</th>\n",
       "      <td>PayPal</td>\n",
       "      <td>Senior Data Scientist</td>\n",
       "      <td>6</td>\n",
       "      <td>4070000.0</td>\n",
       "      <td>3000000.0</td>\n",
       "      <td>4500000.0</td>\n",
       "      <td>15</td>\n",
       "    </tr>\n",
       "    <tr>\n",
       "      <th>39</th>\n",
       "      <td>MSCI</td>\n",
       "      <td>Senior Data Scientist</td>\n",
       "      <td>6</td>\n",
       "      <td>3840000.0</td>\n",
       "      <td>3540000.0</td>\n",
       "      <td>4200000.0</td>\n",
       "      <td>4</td>\n",
       "    </tr>\n",
       "    <tr>\n",
       "      <th>40</th>\n",
       "      <td>Emirates Airlines</td>\n",
       "      <td>Senior Data Engineer</td>\n",
       "      <td>6</td>\n",
       "      <td>6830000.0</td>\n",
       "      <td>2000000.0</td>\n",
       "      <td>9400000.0</td>\n",
       "      <td>5</td>\n",
       "    </tr>\n",
       "    <tr>\n",
       "      <th>41</th>\n",
       "      <td>Uber</td>\n",
       "      <td>Senior Data Engineer</td>\n",
       "      <td>7</td>\n",
       "      <td>6630000.0</td>\n",
       "      <td>3450000.0</td>\n",
       "      <td>9300000.0</td>\n",
       "      <td>5</td>\n",
       "    </tr>\n",
       "    <tr>\n",
       "      <th>42</th>\n",
       "      <td>Adobe</td>\n",
       "      <td>Senior Data Scientist</td>\n",
       "      <td>8</td>\n",
       "      <td>4000000.0</td>\n",
       "      <td>3000000.0</td>\n",
       "      <td>5000000.0</td>\n",
       "      <td>4</td>\n",
       "    </tr>\n",
       "    <tr>\n",
       "      <th>43</th>\n",
       "      <td>Fidelity International</td>\n",
       "      <td>Data Architect</td>\n",
       "      <td>8</td>\n",
       "      <td>5060000.0</td>\n",
       "      <td>2340000.0</td>\n",
       "      <td>9300000.0</td>\n",
       "      <td>4</td>\n",
       "    </tr>\n",
       "    <tr>\n",
       "      <th>44</th>\n",
       "      <td>Whishworks It Consulting</td>\n",
       "      <td>Data Architect</td>\n",
       "      <td>13</td>\n",
       "      <td>2980000.0</td>\n",
       "      <td>2000000.0</td>\n",
       "      <td>3700000.0</td>\n",
       "      <td>4</td>\n",
       "    </tr>\n",
       "  </tbody>\n",
       "</table>\n",
       "</div>"
      ],
      "text/plain": [
       "                      company_name                  job_title  min_experience  \\\n",
       "0                         Flipkart             Data Scientist               0   \n",
       "1                         Autodesk              Data Engineer               0   \n",
       "2                             HSBC      Senior Data Scientist               0   \n",
       "3                         Qualcomm  Machine Learning Engineer               0   \n",
       "4            Microsoft Corporation             Data Scientist               1   \n",
       "5                       CARS24.com             Data Scientist               1   \n",
       "6                           Boeing             Data Scientist               1   \n",
       "7                         Ola Cabs             Data Scientist               1   \n",
       "8                           Adidas              Data Engineer               1   \n",
       "9                             Visa              Data Engineer               1   \n",
       "10                       Info Edge      Senior Data Scientist               1   \n",
       "11                   Bajaj Finance      Senior Data Scientist               1   \n",
       "12           Mobile Premier League        Senior Data Analyst               1   \n",
       "13                          Oracle  Machine Learning Engineer               1   \n",
       "14                          Amazon             Data Scientist               2   \n",
       "15                         Walmart             Data Scientist               2   \n",
       "16                           Apple             Data Scientist               2   \n",
       "17                     Blue Yonder      Senior Data Scientist               2   \n",
       "18                      MasterCard      Senior Data Scientist               2   \n",
       "19                        Algonomy      Senior Data Scientist               2   \n",
       "20                          Yodlee      Senior Data Scientist               2   \n",
       "21                         HALODOC      Senior Data Scientist               2   \n",
       "22                Samsung Research      Senior Data Scientist               2   \n",
       "23                          Go-Jek             Data Scientist               3   \n",
       "24                          Google              Data Engineer               3   \n",
       "25                           Paytm      Senior Data Scientist               3   \n",
       "26                       Oyo Rooms      Senior Data Scientist               3   \n",
       "27                         Kyndryl      Senior Data Scientist               3   \n",
       "28                           Chegg      Senior Data Scientist               3   \n",
       "29           Microsoft Corporation      Senior Data Scientist               4   \n",
       "30                Innova Solutions      Senior Data Scientist               4   \n",
       "31         Koch Business Solutions      Senior Data Scientist               4   \n",
       "32  Commonwealth Bank of Australia      Senior Data Scientist               4   \n",
       "33                         Walmart      Senior Data Scientist               5   \n",
       "34                          Amazon      Senior Data Scientist               5   \n",
       "35                        Flipkart      Senior Data Scientist               5   \n",
       "36                            NIKE       Senior Data Engineer               5   \n",
       "37               Roche Diagnostics       Senior Data Engineer               5   \n",
       "38                          PayPal      Senior Data Scientist               6   \n",
       "39                            MSCI      Senior Data Scientist               6   \n",
       "40               Emirates Airlines       Senior Data Engineer               6   \n",
       "41                            Uber       Senior Data Engineer               7   \n",
       "42                           Adobe      Senior Data Scientist               8   \n",
       "43          Fidelity International             Data Architect               8   \n",
       "44        Whishworks It Consulting             Data Architect              13   \n",
       "\n",
       "    avg_salary  min_salary  max_salary  num_of_salaries  \n",
       "0    2320000.0   1470000.0   4200000.0               37  \n",
       "1    2650000.0    640000.0   4000000.0               11  \n",
       "2    2460000.0   2200000.0   2800000.0                5  \n",
       "3    1940000.0   1200000.0   2980000.0               12  \n",
       "4    3210000.0   1300000.0   6000000.0               81  \n",
       "5    2030000.0   1450000.0   2400000.0               18  \n",
       "6    1940000.0   1350000.0   3500000.0               17  \n",
       "7    2190000.0   1300000.0   3000000.0               13  \n",
       "8    2300000.0   1450000.0   3400000.0               13  \n",
       "9    2870000.0   1650000.0   3700000.0               11  \n",
       "10   3090000.0   2100000.0   3700000.0                8  \n",
       "11   2000000.0   1600000.0   3000000.0                7  \n",
       "12   2520000.0   2000000.0   2800000.0                7  \n",
       "13   2070000.0   2000000.0   2200000.0                6  \n",
       "14   2810000.0    950000.0   5000000.0              140  \n",
       "15   2830000.0   1780000.0   4100000.0               85  \n",
       "16   3360000.0    820000.0   7450000.0               15  \n",
       "17   3160000.0   1800000.0   5000000.0               17  \n",
       "18   2550000.0   1820000.0   3600000.0               12  \n",
       "19   2830000.0   2300000.0   3200000.0                6  \n",
       "20   3210000.0   2700000.0   3600000.0                5  \n",
       "21   2740000.0   1800000.0   3800000.0                5  \n",
       "22   3170000.0   2050000.0   4000000.0                5  \n",
       "23   3050000.0   1650000.0   4400000.0               15  \n",
       "24   4530000.0   1650000.0   9350000.0               16  \n",
       "25   3160000.0   2700000.0   4000000.0                6  \n",
       "26   3100000.0   2000000.0   4200000.0                5  \n",
       "27   4440000.0   1160000.0   9300000.0                5  \n",
       "28   3220000.0   2990000.0   3500000.0                5  \n",
       "29   5640000.0   3000000.0  10000000.0               22  \n",
       "30   3970000.0    600000.0   9700000.0                5  \n",
       "31   3960000.0   2300000.0   5100000.0                5  \n",
       "32   3180000.0   2700000.0   3500000.0                4  \n",
       "33   4300000.0   3000000.0   6500000.0               32  \n",
       "34   4150000.0   2600000.0   7500000.0               30  \n",
       "35   8200000.0   5500000.0  10000000.0                5  \n",
       "36   3100000.0   2700000.0   3500000.0               16  \n",
       "37   3310000.0   2350000.0   4300000.0                4  \n",
       "38   4070000.0   3000000.0   4500000.0               15  \n",
       "39   3840000.0   3540000.0   4200000.0                4  \n",
       "40   6830000.0   2000000.0   9400000.0                5  \n",
       "41   6630000.0   3450000.0   9300000.0                5  \n",
       "42   4000000.0   3000000.0   5000000.0                4  \n",
       "43   5060000.0   2340000.0   9300000.0                4  \n",
       "44   2980000.0   2000000.0   3700000.0                4  "
      ]
     },
     "execution_count": 19,
     "metadata": {},
     "output_type": "execute_result"
    }
   ],
   "source": [
    "grp = DS_jobs.groupby('min_experience')  # Group by 'min_experience'\n",
    "# in grp variable there is two this are stored in form of dictionary keys are experiance and values ae rows falls under that keys \n",
    "#  by runing loop we have stored keys in exp_level and rows in in rows\n",
    "outliers_df = pd.DataFrame()  # Empty DataFrame to store all outliers\n",
    "\n",
    "# Iterate over the grouped data\n",
    "for exp_level, rows in grp:\n",
    "    Q1 = rows['avg_salary'].quantile(0.25)  # First Quartile\n",
    "    Q3 = rows['avg_salary'].quantile(0.75)  # Third Quartile\n",
    "#     here we have iterated values(group) i.e rows and specific column i.e avg_salary column\n",
    "    IQR = Q3 - Q1  # Interquartile Range\n",
    "\n",
    "    # Define the bounds\n",
    "    lower_bound = Q1 - 1.5 * IQR\n",
    "    upper_bound = Q3 + 1.5 * IQR\n",
    "\n",
    "    # Identify outliers\n",
    "    outliers = rows[(rows['avg_salary'] < lower_bound) | (rows['avg_salary'] > upper_bound)]\n",
    "\n",
    "    # Append the outliers to the final DataFrame\n",
    "    outliers_df = pd.concat([outliers_df, outliers])\n",
    "#     print(exp_level,lower_bound)\n",
    "#     print(exp_level,upper_bound)\n",
    "    \n",
    "# Display all outliers\n",
    "outliers_df.reset_index(drop=True)\n",
    "# len(outliers_df)\n",
    "# Use outliers_df + concat: When you want to collect outliers from all groups in a single DataFrame.\n",
    "# Skip outliers_df: When you only care about the most recent group's outliers or are processing groups independently.\n",
    "# Direct concat within a comprehension: Simplifies code for consolidating all outliers.\n",
    "    "
   ]
  },
  {
   "cell_type": "code",
   "execution_count": 20,
   "id": "6af5d6d1",
   "metadata": {
    "scrolled": true
   },
   "outputs": [
    {
     "data": {
      "text/plain": [
       "{0: [36, 37, 46, 48, 49, 60, 75, 81, 84, 89, 91, 104, 108, 109, 118, 123, 130, 131, 137, 144, 147, 152, 156, 168, 171, 175, 176, 180, 182, 203, 223, 224, 226, 229, 237, 251, 258, 272, 287, 293, 295, 306, 313, 314, 325, 332, 350, 351, 358, 360, 365, 379, 386, 398, 400, 404, 405, 411, 412, 418, 425, 429, 430, 432, 433, 439, 441, 446, 450, 457, 460, 461, 463, 465, 467, 473, 475, 478, 481, 482, 483, 492, 500, 507, 511, 514, 515, 518, 519, 520, 521, 522, 526, 530, 533, 534, 535, 538, 539, 540, ...], 1: [14, 23, 27, 33, 38, 39, 45, 47, 53, 56, 57, 59, 61, 67, 68, 70, 71, 72, 74, 86, 88, 96, 98, 100, 101, 105, 106, 107, 110, 112, 116, 119, 122, 124, 127, 129, 132, 136, 138, 141, 145, 146, 148, 157, 160, 161, 162, 163, 172, 178, 179, 181, 184, 185, 186, 189, 190, 192, 193, 194, 195, 196, 200, 206, 208, 213, 219, 220, 228, 236, 240, 243, 247, 248, 253, 256, 257, 259, 262, 265, 266, 267, 271, 275, 276, 277, 279, 280, 281, 283, 284, 285, 289, 294, 297, 299, 300, 301, 302, 305, ...], 2: [0, 1, 2, 3, 4, 5, 6, 7, 8, 9, 11, 12, 13, 15, 16, 17, 18, 19, 20, 21, 22, 24, 25, 26, 29, 32, 34, 35, 40, 41, 42, 43, 44, 50, 51, 52, 54, 55, 58, 62, 64, 65, 66, 69, 73, 76, 77, 78, 79, 80, 82, 83, 87, 90, 92, 94, 95, 99, 102, 103, 113, 114, 115, 117, 121, 126, 133, 135, 140, 143, 151, 153, 155, 158, 165, 167, 169, 170, 173, 177, 183, 187, 188, 191, 197, 198, 199, 201, 204, 205, 207, 209, 211, 212, 215, 217, 221, 222, 230, 231, ...], 3: [10, 28, 30, 31, 63, 93, 97, 111, 120, 125, 128, 139, 142, 149, 150, 154, 164, 166, 174, 202, 216, 227, 235, 238, 242, 245, 246, 249, 254, 268, 270, 282, 286, 292, 298, 304, 307, 309, 315, 317, 321, 340, 354, 361, 372, 490, 579, 585, 595, 620, 622, 631, 634, 640, 641, 648, 666, 671, 690, 691, 694, 695, 700, 721, 732, 733, 734, 746, 751, 755, 764, 773, 774, 787, 798, 799, 803, 806, 813, 814, 816, 817, 818, 819, 825, 828, 833, 836, 839, 840, 863, 866, 868, 872, 876, 880, 884, 887, 891, 892, ...], 4: [85, 134, 210, 214, 218, 320, 327, 330, 333, 339, 355, 357, 591, 603, 616, 618, 660, 678, 712, 725, 736, 752, 753, 754, 756, 760, 761, 767, 768, 770, 771, 772, 775, 778, 780, 782, 783, 791, 792, 797, 802, 810, 811, 812, 815, 821, 827, 829, 832, 845, 847, 851, 854, 856, 857, 861, 862, 867, 885, 886, 888, 889, 893, 895, 900, 904, 910, 913, 916, 929, 931, 934, 940, 941, 943, 944, 953, 955, 956, 967, 970, 972, 977, 980, 981, 988, 996, 997, 1002, 1016, 1021, 1022, 1026, 1033, 1042, 1046, 1060, 1064, 1067, 1072, ...], 5: [159, 225, 291, 336, 713, 757, 758, 759, 762, 765, 788, 800, 801, 804, 807, 820, 826, 834, 842, 844, 849, 858, 870, 881, 897, 899, 912, 918, 932, 935, 945, 954, 959, 964, 974, 976, 982, 985, 992, 999, 1000, 1004, 1005, 1007, 1015, 1020, 1023, 1024, 1028, 1045, 1050, 1055, 1056, 1058, 1062, 1063, 1065, 1071, 1082, 1091, 1099, 1100, 1111, 1121, 1137, 1142, 1149, 1176, 1205, 1206, 1212, 1226, 1231, 1233, 1250, 1256, 1267, 1268, 1283, 1291, 1300, 1302, 1309, 1313, 1314, 1316, 1326, 1331, 1336, 1342, 1343, 1344, 1351, 1352, 1353, 1357, 1360, 1365, 1371, 1385, ...], 6: [682, 777, 790, 823, 835, 850, 853, 855, 859, 869, 882, 890, 925, 930, 947, 962, 963, 969, 994, 1017, 1031, 1044, 1049, 1051, 1059, 1070, 1073, 1078, 1080, 1086, 1089, 1094, 1098, 1108, 1110, 1122, 1238, 1278, 1287, 1292, 1307, 1324, 1341, 1345, 1403, 1417, 1426, 1428, 1429, 1442, 1467, 1486, 1490, 1544, 1588], 7: [769, 789, 843, 852, 871, 874, 875, 883, 906, 928, 933, 979, 983, 993, 1029, 1043, 1068, 1069, 1077, 1087, 1095, 1097, 1101, 1107, 1253, 1277, 1317, 1362, 1368, 1388, 1393, 1396, 1415, 1420, 1430, 1433, 1435, 1437, 1450, 1451, 1455, 1462, 1474, 1475, 1567, 1592, 1598, 1600], 8: [896, 914, 927, 1040, 1103, 1382, 1384, 1423, 1424, 1425, 1432, 1452, 1476, 1477, 1489, 1492, 1552, 1553, 1557, 1564, 1566, 1568, 1576, 1578, 1582, 1585, 1597], 9: [846, 894, 923, 1083, 1413, 1483, 1562, 1563, 1574, 1586], 10: [922, 984, 1369, 1555, 1556, 1559, 1570, 1577, 1580, 1589], 11: [1569, 1571, 1590], 12: [1573, 1583, 1595, 1596], 13: [1560, 1561, 1565, 1581, 1594], 14: [1572, 1584, 1591, 1593], 15: [1575], 16: [1601], 21: [1599]}"
      ]
     },
     "execution_count": 20,
     "metadata": {},
     "output_type": "execute_result"
    }
   ],
   "source": [
    "grp.groups"
   ]
  },
  {
   "cell_type": "markdown",
   "id": "cd69b3b0",
   "metadata": {},
   "source": [
    "### 2. How does the minimum experience required correlate with average salary?"
   ]
  },
  {
   "cell_type": "code",
   "execution_count": 21,
   "id": "21831310",
   "metadata": {},
   "outputs": [
    {
     "name": "stdout",
     "output_type": "stream",
     "text": [
      "   min_experience  avg_salary\n",
      "0               2    780000.0\n",
      "1               2   1280000.0\n",
      "2               2   1340000.0\n",
      "3               2    980000.0\n",
      "4               2    860000.0\n",
      "min_experience      int64\n",
      "avg_salary        float64\n",
      "dtype: object\n"
     ]
    }
   ],
   "source": [
    "Exp_Sal=DS_jobs[['min_experience','avg_salary']]\n",
    "print(Exp_Sal.head())\n",
    "print(Exp_Sal.dtypes)"
   ]
  },
  {
   "cell_type": "code",
   "execution_count": 22,
   "id": "7d7470e0",
   "metadata": {
    "scrolled": false
   },
   "outputs": [
    {
     "data": {
      "image/png": "[encoded data removed]",
      "text/plain": [
       "<Figure size 640x480 with 1 Axes>"
      ]
     },
     "metadata": {},
     "output_type": "display_data"
    }
   ],
   "source": [
    "plt.scatter(DS_jobs['min_experience'],DS_jobs['avg_salary'])\n",
    "# DS_jobs.plot(x='min_experience',y='avg_salary',kind='scatter')\n",
    "plt.xlabel('Minimum Experiance')\n",
    "# plt.ylabel('Average Salary (10lacs)')\n",
    "plt.ylabel('Average Salary')\n",
    "plt.ticklabel_format(style='plain', axis='y')\n",
    "# This ticklabel_format with style='plain' will stop the scientific notation and display the full numbers on the y-axis.\n",
    "\n",
    "# The ticklabel_format function in Matplotlib is used to control the display format of tick labels on the axes of a plot. \n",
    "# It allows you to specify how the numbers on the axis should be formatted, \n",
    "# especially when the values are very large or very small.\n",
    "\n",
    "# Parameters:\n",
    "# style: This specifies the format style for the tick labels. There are two main options:\n",
    "\n",
    "# 'plain': Display the numbers without scientific notation.\n",
    "# 'sci': Display the numbers in scientific notation (e.g., 1e+06 for one million).\n",
    "# axis: This controls which axis the formatting applies to:\n",
    "\n",
    "# 'x': Apply formatting to the x-axis.\n",
    "# 'y': Apply formatting to the y-axis.\n",
    "# 'both': Apply formatting to both the x and y axes.\n",
    "plt.show()"
   ]
  },
  {
   "cell_type": "markdown",
   "id": "a8aa6ddb",
   "metadata": {},
   "source": [
    "### 3. What is the average salary for roles requiring less than 2 years of experience?"
   ]
  },
  {
   "cell_type": "code",
   "execution_count": 23,
   "id": "c6d09a3a",
   "metadata": {
    "scrolled": false
   },
   "outputs": [
    {
     "name": "stdout",
     "output_type": "stream",
     "text": [
      "Average of Average salary for roles requiring less than 2 years of experience :\n",
      "821401.52 ₹\n",
      "Average of Average salary for roles requiring more than 2 years of experience :\n",
      "1755320.33 ₹\n"
     ]
    },
    {
     "data": {
      "image/png": "[encoded data removed]",
      "text/plain": [
       "<Figure size 640x480 with 1 Axes>"
      ]
     },
     "metadata": {},
     "output_type": "display_data"
    }
   ],
   "source": [
    "# DS_jobs[['min_experience','avg_salary']][DS_jobs['min_experience']<2]\n",
    "Avg_sal_exp2=DS_jobs[DS_jobs['min_experience']<2]['avg_salary'].mean()\n",
    "Avg_sal_moreexp2=DS_jobs[DS_jobs['min_experience']>2]['avg_salary'].mean()\n",
    "\n",
    "print(f'Average of Average salary for roles requiring less than 2 years of experience :\\n{Avg_sal_exp2:.2f} ₹')\n",
    "print(f'Average of Average salary for roles requiring more than 2 years of experience :\\n{Avg_sal_moreexp2:.2f} ₹')\n",
    "\n",
    "pluto = [Avg_sal_exp2, Avg_sal_moreexp2]\n",
    "labels = ['< 2 Years Experience', '> 2 Years Experience']\n",
    "\n",
    "# Plotting\n",
    "plt.bar(labels, pluto, color=['blue', 'green'])  # Create a bar plot\n",
    "plt.title('Average Salary by Experience Level')\n",
    "plt.xlabel('Experience Level')\n",
    "plt.ylabel('Average Salary (₹)')\n",
    "plt.show()"
   ]
  },
  {
   "cell_type": "markdown",
   "id": "469ddd7c",
   "metadata": {},
   "source": [
    "### 4. Do jobs requiring 5+ years of experience offer significantly higher salaries?"
   ]
  },
  {
   "cell_type": "code",
   "execution_count": 24,
   "id": "2626663e",
   "metadata": {},
   "outputs": [
    {
     "name": "stdout",
     "output_type": "stream",
     "text": [
      "Average salary for jobs with 5+ years of experience: 2112278.91 ₹\n",
      "Average salary for jobs with less than 5 years of experience: 1146192.66 ₹\n"
     ]
    }
   ],
   "source": [
    "avg_salary_5_plus = DS_jobs[DS_jobs['min_experience']>=5]['avg_salary'].mean()\n",
    "avg_salary_less_than_5 = DS_jobs[DS_jobs['min_experience']<5]['avg_salary'].mean()\n",
    "\n",
    "\n",
    "print(f\"Average salary for jobs with 5+ years of experience: {avg_salary_5_plus:.2f} ₹\")\n",
    "print(f\"Average salary for jobs with less than 5 years of experience: {avg_salary_less_than_5:.2f} ₹\")"
   ]
  },
  {
   "cell_type": "code",
   "execution_count": 25,
   "id": "f4429fee",
   "metadata": {},
   "outputs": [
    {
     "data": {
      "image/png": "[encoded data removed]",
      "text/plain": [
       "<Figure size 640x480 with 1 Axes>"
      ]
     },
     "metadata": {},
     "output_type": "display_data"
    }
   ],
   "source": [
    "avg_salry_asper_exp=[avg_salary_less_than_5,avg_salary_5_plus]\n",
    "xlabel=['Less than 5','More than 5']\n",
    "\n",
    "plt.bar(xlabel,avg_salry_asper_exp,color=['darkgreen','lightgreen'])\n",
    "plt.xlabel('Experiance Level',fontsize=14)\n",
    "plt.ylabel('Average Salary amount in ',fontsize=14)\n",
    "plt.title('Salary Comparison as per experiance requirement', fontsize=16)\n",
    "plt.ticklabel_format(style='plain', axis='y')"
   ]
  },
  {
   "cell_type": "markdown",
   "id": "a153f833",
   "metadata": {},
   "source": [
    "### 5. Which companies offer the best salaries for entry-level roles?"
   ]
  },
  {
   "cell_type": "code",
   "execution_count": 26,
   "id": "4fa1b012",
   "metadata": {},
   "outputs": [
    {
     "data": {
      "text/html": [
       "<div>\n",
       "<style scoped>\n",
       "    .dataframe tbody tr th:only-of-type {\n",
       "        vertical-align: middle;\n",
       "    }\n",
       "\n",
       "    .dataframe tbody tr th {\n",
       "        vertical-align: top;\n",
       "    }\n",
       "\n",
       "    .dataframe thead th {\n",
       "        text-align: right;\n",
       "    }\n",
       "</style>\n",
       "<table border=\"1\" class=\"dataframe\">\n",
       "  <thead>\n",
       "    <tr style=\"text-align: right;\">\n",
       "      <th></th>\n",
       "      <th>company_name</th>\n",
       "      <th>avg_salary</th>\n",
       "    </tr>\n",
       "  </thead>\n",
       "  <tbody>\n",
       "    <tr>\n",
       "      <th>0</th>\n",
       "      <td>Google</td>\n",
       "      <td>4530000.0</td>\n",
       "    </tr>\n",
       "    <tr>\n",
       "      <th>1</th>\n",
       "      <td>Kyndryl</td>\n",
       "      <td>4440000.0</td>\n",
       "    </tr>\n",
       "    <tr>\n",
       "      <th>2</th>\n",
       "      <td>Apple</td>\n",
       "      <td>3360000.0</td>\n",
       "    </tr>\n",
       "    <tr>\n",
       "      <th>3</th>\n",
       "      <td>Chegg</td>\n",
       "      <td>3220000.0</td>\n",
       "    </tr>\n",
       "    <tr>\n",
       "      <th>4</th>\n",
       "      <td>Microsoft Corporation</td>\n",
       "      <td>3210000.0</td>\n",
       "    </tr>\n",
       "    <tr>\n",
       "      <th>5</th>\n",
       "      <td>Yodlee</td>\n",
       "      <td>3210000.0</td>\n",
       "    </tr>\n",
       "    <tr>\n",
       "      <th>6</th>\n",
       "      <td>Samsung Research</td>\n",
       "      <td>3170000.0</td>\n",
       "    </tr>\n",
       "    <tr>\n",
       "      <th>7</th>\n",
       "      <td>Paytm</td>\n",
       "      <td>3160000.0</td>\n",
       "    </tr>\n",
       "    <tr>\n",
       "      <th>8</th>\n",
       "      <td>Blue Yonder</td>\n",
       "      <td>3160000.0</td>\n",
       "    </tr>\n",
       "    <tr>\n",
       "      <th>9</th>\n",
       "      <td>Oyo Rooms</td>\n",
       "      <td>3100000.0</td>\n",
       "    </tr>\n",
       "    <tr>\n",
       "      <th>10</th>\n",
       "      <td>Info Edge</td>\n",
       "      <td>3090000.0</td>\n",
       "    </tr>\n",
       "    <tr>\n",
       "      <th>11</th>\n",
       "      <td>Go-Jek</td>\n",
       "      <td>3050000.0</td>\n",
       "    </tr>\n",
       "    <tr>\n",
       "      <th>12</th>\n",
       "      <td>Adobe</td>\n",
       "      <td>2940000.0</td>\n",
       "    </tr>\n",
       "    <tr>\n",
       "      <th>13</th>\n",
       "      <td>Intersoft Data Labs</td>\n",
       "      <td>2920000.0</td>\n",
       "    </tr>\n",
       "    <tr>\n",
       "      <th>14</th>\n",
       "      <td>Visa</td>\n",
       "      <td>2870000.0</td>\n",
       "    </tr>\n",
       "    <tr>\n",
       "      <th>15</th>\n",
       "      <td>Algonomy</td>\n",
       "      <td>2830000.0</td>\n",
       "    </tr>\n",
       "    <tr>\n",
       "      <th>16</th>\n",
       "      <td>Walmart</td>\n",
       "      <td>2830000.0</td>\n",
       "    </tr>\n",
       "    <tr>\n",
       "      <th>17</th>\n",
       "      <td>Amazon</td>\n",
       "      <td>2810000.0</td>\n",
       "    </tr>\n",
       "    <tr>\n",
       "      <th>18</th>\n",
       "      <td>GE Healthcare</td>\n",
       "      <td>2800000.0</td>\n",
       "    </tr>\n",
       "    <tr>\n",
       "      <th>19</th>\n",
       "      <td>Ab Inbev</td>\n",
       "      <td>2800000.0</td>\n",
       "    </tr>\n",
       "  </tbody>\n",
       "</table>\n",
       "</div>"
      ],
      "text/plain": [
       "             company_name  avg_salary\n",
       "0                  Google   4530000.0\n",
       "1                 Kyndryl   4440000.0\n",
       "2                   Apple   3360000.0\n",
       "3                   Chegg   3220000.0\n",
       "4   Microsoft Corporation   3210000.0\n",
       "5                  Yodlee   3210000.0\n",
       "6        Samsung Research   3170000.0\n",
       "7                   Paytm   3160000.0\n",
       "8             Blue Yonder   3160000.0\n",
       "9               Oyo Rooms   3100000.0\n",
       "10              Info Edge   3090000.0\n",
       "11                 Go-Jek   3050000.0\n",
       "12                  Adobe   2940000.0\n",
       "13    Intersoft Data Labs   2920000.0\n",
       "14                   Visa   2870000.0\n",
       "15               Algonomy   2830000.0\n",
       "16                Walmart   2830000.0\n",
       "17                 Amazon   2810000.0\n",
       "18          GE Healthcare   2800000.0\n",
       "19               Ab Inbev   2800000.0"
      ]
     },
     "execution_count": 26,
     "metadata": {},
     "output_type": "execute_result"
    }
   ],
   "source": [
    "co_sal_entrylevel=DS_jobs[DS_jobs['min_experience']<=3][['company_name','avg_salary']].sort_values(by='avg_salary',ascending=False).reset_index(drop=True)\n",
    "co_sal_entrylevel.head(20)"
   ]
  },
  {
   "cell_type": "markdown",
   "id": "4a30afd8",
   "metadata": {},
   "source": [
    "### 6. How do the minimum and maximum salaries vary with experience requirements?"
   ]
  },
  {
   "cell_type": "code",
   "execution_count": 27,
   "id": "a9c94c9e",
   "metadata": {
    "scrolled": true
   },
   "outputs": [
    {
     "name": "stdout",
     "output_type": "stream",
     "text": [
      "                     min_salary  max_salary\n",
      "label_to_experiance                        \n",
      "Entry-Level           694287.22  1724646.25\n",
      "Mid-Level            1230334.13  2477112.17\n",
      "Senior-Level         1894600.00  3123800.00\n",
      "Super_Senior-Level   2140000.00  3352500.00\n"
     ]
    }
   ],
   "source": [
    "DS_jobs['label_to_experiance']=pd.cut(DS_jobs['min_experience'],bins=[0,3,7,11,float('inf')],\n",
    "                           labels=['Entry-Level','Mid-Level','Senior-Level','Super_Senior-Level'])\n",
    "min_max_salary_with_EX=DS_jobs.groupby('label_to_experiance')[['min_salary','max_salary']].mean()\n",
    "pd.options.display.float_format = '{:.2f}'.format\n",
    "print(f'{min_max_salary_with_EX}')"
   ]
  },
  {
   "cell_type": "code",
   "execution_count": 28,
   "id": "11c288f3",
   "metadata": {},
   "outputs": [
    {
     "data": {
      "image/png": "[encoded data removed]",
      "text/plain": [
       "<Figure size 1000x600 with 1 Axes>"
      ]
     },
     "metadata": {},
     "output_type": "display_data"
    }
   ],
   "source": [
    "min_max_salary_with_EX.plot(kind='barh',color=('g','y'),figsize=(10,6))\n",
    "plt.xlabel('Salary')\n",
    "plt.ylabel('Experiance Level')\n",
    "plt.title('Minimum and Maximum Salary Comparison as per Experiance', fontsize=14)\n",
    "# plt.legend('Min Salary','Max Salary')\n",
    "plt.grid(linestyle='--',alpha=0.3,axis='x')\n",
    "plt.show()"
   ]
  },
  {
   "cell_type": "markdown",
   "id": "6a77e17e",
   "metadata": {},
   "source": [
    "### 7. What is the trend in salary ranges as experience increases?"
   ]
  },
  {
   "cell_type": "code",
   "execution_count": 29,
   "id": "a5950468",
   "metadata": {},
   "outputs": [
    {
     "data": {
      "text/plain": [
       "Index(['company_name', 'job_title', 'min_experience', 'avg_salary',\n",
       "       'min_salary', 'max_salary', 'num_of_salaries', 'label_to_experiance'],\n",
       "      dtype='object')"
      ]
     },
     "execution_count": 29,
     "metadata": {},
     "output_type": "execute_result"
    }
   ],
   "source": [
    "DS_jobs.columns"
   ]
  },
  {
   "cell_type": "code",
   "execution_count": 30,
   "id": "adc703c0",
   "metadata": {},
   "outputs": [
    {
     "name": "stdout",
     "output_type": "stream",
     "text": [
      "8200000.0\n",
      "140000.0\n"
     ]
    }
   ],
   "source": [
    "print(DS_jobs['avg_salary'].max())\n",
    "print(DS_jobs['avg_salary'].min())"
   ]
  },
  {
   "cell_type": "code",
   "execution_count": 31,
   "id": "1b58489e",
   "metadata": {
    "scrolled": false
   },
   "outputs": [
    {
     "data": {
      "text/html": [
       "<div>\n",
       "<style scoped>\n",
       "    .dataframe tbody tr th:only-of-type {\n",
       "        vertical-align: middle;\n",
       "    }\n",
       "\n",
       "    .dataframe tbody tr th {\n",
       "        vertical-align: top;\n",
       "    }\n",
       "\n",
       "    .dataframe thead th {\n",
       "        text-align: right;\n",
       "    }\n",
       "</style>\n",
       "<table border=\"1\" class=\"dataframe\">\n",
       "  <thead>\n",
       "    <tr style=\"text-align: right;\">\n",
       "      <th></th>\n",
       "      <th>company_name</th>\n",
       "      <th>job_title</th>\n",
       "      <th>min_experience</th>\n",
       "      <th>avg_salary</th>\n",
       "      <th>min_salary</th>\n",
       "      <th>max_salary</th>\n",
       "      <th>num_of_salaries</th>\n",
       "      <th>label_to_experiance</th>\n",
       "      <th>salary_range</th>\n",
       "    </tr>\n",
       "  </thead>\n",
       "  <tbody>\n",
       "    <tr>\n",
       "      <th>0</th>\n",
       "      <td>TCS</td>\n",
       "      <td>Data Scientist</td>\n",
       "      <td>2</td>\n",
       "      <td>780000.00</td>\n",
       "      <td>450000.00</td>\n",
       "      <td>1600000.00</td>\n",
       "      <td>841</td>\n",
       "      <td>Entry-Level</td>\n",
       "      <td>0-10</td>\n",
       "    </tr>\n",
       "    <tr>\n",
       "      <th>1</th>\n",
       "      <td>Accenture</td>\n",
       "      <td>Data Scientist</td>\n",
       "      <td>2</td>\n",
       "      <td>1280000.00</td>\n",
       "      <td>580000.00</td>\n",
       "      <td>2300000.00</td>\n",
       "      <td>501</td>\n",
       "      <td>Entry-Level</td>\n",
       "      <td>10-20</td>\n",
       "    </tr>\n",
       "    <tr>\n",
       "      <th>2</th>\n",
       "      <td>IBM</td>\n",
       "      <td>Data Scientist</td>\n",
       "      <td>2</td>\n",
       "      <td>1340000.00</td>\n",
       "      <td>530000.00</td>\n",
       "      <td>2500000.00</td>\n",
       "      <td>394</td>\n",
       "      <td>Entry-Level</td>\n",
       "      <td>10-20</td>\n",
       "    </tr>\n",
       "    <tr>\n",
       "      <th>3</th>\n",
       "      <td>Cognizant</td>\n",
       "      <td>Data Scientist</td>\n",
       "      <td>2</td>\n",
       "      <td>980000.00</td>\n",
       "      <td>500000.00</td>\n",
       "      <td>1800000.00</td>\n",
       "      <td>318</td>\n",
       "      <td>Entry-Level</td>\n",
       "      <td>0-10</td>\n",
       "    </tr>\n",
       "    <tr>\n",
       "      <th>4</th>\n",
       "      <td>Capgemini</td>\n",
       "      <td>Data Scientist</td>\n",
       "      <td>2</td>\n",
       "      <td>860000.00</td>\n",
       "      <td>480000.00</td>\n",
       "      <td>1460000.00</td>\n",
       "      <td>300</td>\n",
       "      <td>Entry-Level</td>\n",
       "      <td>0-10</td>\n",
       "    </tr>\n",
       "  </tbody>\n",
       "</table>\n",
       "</div>"
      ],
      "text/plain": [
       "  company_name       job_title  min_experience  avg_salary  min_salary  \\\n",
       "0          TCS  Data Scientist               2   780000.00   450000.00   \n",
       "1    Accenture  Data Scientist               2  1280000.00   580000.00   \n",
       "2          IBM  Data Scientist               2  1340000.00   530000.00   \n",
       "3    Cognizant  Data Scientist               2   980000.00   500000.00   \n",
       "4    Capgemini  Data Scientist               2   860000.00   480000.00   \n",
       "\n",
       "   max_salary  num_of_salaries label_to_experiance salary_range  \n",
       "0  1600000.00              841         Entry-Level         0-10  \n",
       "1  2300000.00              501         Entry-Level        10-20  \n",
       "2  2500000.00              394         Entry-Level        10-20  \n",
       "3  1800000.00              318         Entry-Level         0-10  \n",
       "4  1460000.00              300         Entry-Level         0-10  "
      ]
     },
     "execution_count": 31,
     "metadata": {},
     "output_type": "execute_result"
    }
   ],
   "source": [
    "salary_range = [0, 1000000, 2000000, 3000000, 4000000, 5000000,6000000,7000000,float('inf')]\n",
    "bin_labels = ['0-10','10-20','20-30','30-40','40-50','50-60','60-70','70+']\n",
    "DS_jobs['salary_range'] = pd.cut(DS_jobs['avg_salary'], bins=salary_range, labels=bin_labels)\n",
    "DS_jobs.head()"
   ]
  },
  {
   "cell_type": "code",
   "execution_count": 32,
   "id": "cfde80c4",
   "metadata": {
    "scrolled": false
   },
   "outputs": [
    {
     "data": {
      "image/png": "[encoded data removed]",
      "text/plain": [
       "<Figure size 1000x600 with 1 Axes>"
      ]
     },
     "metadata": {},
     "output_type": "display_data"
    }
   ],
   "source": [
    "sal_range_asper_exp=DS_jobs.groupby('salary_range')['min_experience'].mean()\n",
    "# Plot the line chart\n",
    "sal_range_asper_exp.plot(kind='line', color='darkred', marker='o', label=False, figsize=(10, 6))\n",
    "\n",
    "# Annotate points on the chart\n",
    "for i, value in enumerate(sal_range_asper_exp):\n",
    "    plt.annotate(f'{value:.1f}', \n",
    "                 (i, value), \n",
    "                 textcoords=\"offset points\", \n",
    "                 xytext=(0, 10),  # Adjust annotation offset\n",
    "                 ha='center',fontsize=10)\n",
    "plt.xlabel('Salary Range')\n",
    "plt.ylabel('Average Experience')\n",
    "plt.title('Average Experience by Salary Range',fontsize=14)\n",
    "plt.xticks(range(len(sal_range_asper_exp.index)), sal_range_asper_exp.index, rotation=360)  # Set x-ticks properly\n",
    "plt.grid(axis='y', linestyle='--', alpha=1)\n",
    "\n",
    "# Show the plot\n",
    "plt.show()"
   ]
  },
  {
   "cell_type": "code",
   "execution_count": 33,
   "id": "c974e5ac",
   "metadata": {},
   "outputs": [
    {
     "name": "stdout",
     "output_type": "stream",
     "text": [
      "salary_range\n",
      "0-10          1\n",
      "10-20         2\n",
      "20-30         4\n",
      "30-40    [6, 7]\n",
      "40-50    [3, 5]\n",
      "50-60    [4, 8]\n",
      "60-70    [6, 7]\n",
      "70+           5\n",
      "Name: min_experience, dtype: object\n"
     ]
    }
   ],
   "source": [
    "# Calculate mode for min_experience grouped by salary_range\n",
    "sal_range_asper_exp_mode = DS_jobs.groupby('salary_range')['min_experience'].agg(lambda x: x.mode())\n",
    "# this will consider 0th value from the list if mode is giving 2 values but it will show error if any value is nan in list\n",
    "#  for that we can use if condition to ignore NAN value.here,group 70-80 has no value which shows NAN in out put so giving error\n",
    "print(sal_range_asper_exp_mode)"
   ]
  },
  {
   "cell_type": "code",
   "execution_count": 34,
   "id": "8a29a637",
   "metadata": {
    "scrolled": true
   },
   "outputs": [
    {
     "data": {
      "text/plain": [
       "Series([], Name: min_experience, dtype: float64)"
      ]
     },
     "execution_count": 34,
     "metadata": {},
     "output_type": "execute_result"
    }
   ],
   "source": [
    "sal_range_asper_exp[sal_range_asper_exp.isna()]"
   ]
  },
  {
   "cell_type": "code",
   "execution_count": 35,
   "id": "b6a00cd8",
   "metadata": {
    "scrolled": true
   },
   "outputs": [
    {
     "name": "stdout",
     "output_type": "stream",
     "text": [
      "salary_range\n",
      "0-10     1\n",
      "10-20    2\n",
      "20-30    4\n",
      "30-40    6\n",
      "40-50    3\n",
      "50-60    4\n",
      "60-70    6\n",
      "70+      5\n",
      "Name: min_experience, dtype: int64\n"
     ]
    }
   ],
   "source": [
    "# Calculate mode for min_experience grouped by salary_range\n",
    "sal_range_asper_exp_mode = DS_jobs.groupby('salary_range')['min_experience'].agg(lambda x: x.mode()[0] if not x.mode().empty else None)\n",
    "print(sal_range_asper_exp_mode)"
   ]
  },
  {
   "cell_type": "code",
   "execution_count": 36,
   "id": "15623b28",
   "metadata": {},
   "outputs": [],
   "source": [
    "# just EG\n",
    "grouped=DS_jobs.groupby(['company_name'])"
   ]
  },
  {
   "cell_type": "code",
   "execution_count": 37,
   "id": "0bdaff98",
   "metadata": {
    "scrolled": false
   },
   "outputs": [
    {
     "data": {
      "text/html": [
       "<div>\n",
       "<style scoped>\n",
       "    .dataframe tbody tr th:only-of-type {\n",
       "        vertical-align: middle;\n",
       "    }\n",
       "\n",
       "    .dataframe tbody tr th {\n",
       "        vertical-align: top;\n",
       "    }\n",
       "\n",
       "    .dataframe thead th {\n",
       "        text-align: right;\n",
       "    }\n",
       "</style>\n",
       "<table border=\"1\" class=\"dataframe\">\n",
       "  <thead>\n",
       "    <tr style=\"text-align: right;\">\n",
       "      <th></th>\n",
       "      <th>company_name</th>\n",
       "      <th>job_title</th>\n",
       "      <th>min_experience</th>\n",
       "      <th>avg_salary</th>\n",
       "      <th>min_salary</th>\n",
       "      <th>max_salary</th>\n",
       "      <th>num_of_salaries</th>\n",
       "      <th>label_to_experiance</th>\n",
       "      <th>salary_range</th>\n",
       "    </tr>\n",
       "  </thead>\n",
       "  <tbody>\n",
       "    <tr>\n",
       "      <th>170</th>\n",
       "      <td>Apple</td>\n",
       "      <td>Data Scientist</td>\n",
       "      <td>2</td>\n",
       "      <td>3360000.00</td>\n",
       "      <td>820000.00</td>\n",
       "      <td>7450000.00</td>\n",
       "      <td>15</td>\n",
       "      <td>Entry-Level</td>\n",
       "      <td>30-40</td>\n",
       "    </tr>\n",
       "    <tr>\n",
       "      <th>721</th>\n",
       "      <td>Apple</td>\n",
       "      <td>Data Engineer</td>\n",
       "      <td>3</td>\n",
       "      <td>2500000.00</td>\n",
       "      <td>1700000.00</td>\n",
       "      <td>3500000.00</td>\n",
       "      <td>11</td>\n",
       "      <td>Entry-Level</td>\n",
       "      <td>20-30</td>\n",
       "    </tr>\n",
       "  </tbody>\n",
       "</table>\n",
       "</div>"
      ],
      "text/plain": [
       "    company_name       job_title  min_experience  avg_salary  min_salary  \\\n",
       "170        Apple  Data Scientist               2  3360000.00   820000.00   \n",
       "721        Apple   Data Engineer               3  2500000.00  1700000.00   \n",
       "\n",
       "     max_salary  num_of_salaries label_to_experiance salary_range  \n",
       "170  7450000.00               15         Entry-Level        30-40  \n",
       "721  3500000.00               11         Entry-Level        20-30  "
      ]
     },
     "execution_count": 37,
     "metadata": {},
     "output_type": "execute_result"
    }
   ],
   "source": [
    "# just EG\n",
    "grouped.get_group(('Apple'))"
   ]
  },
  {
   "cell_type": "markdown",
   "id": "b5536397",
   "metadata": {},
   "source": [
    "## Problem Statement 2 : Salary Distribution Analysis"
   ]
  },
  {
   "cell_type": "markdown",
   "id": "98c7f008",
   "metadata": {},
   "source": [
    "### 1. What is the overall distribution of average salaries in the dataset?"
   ]
  },
  {
   "cell_type": "code",
   "execution_count": 38,
   "id": "38265544",
   "metadata": {
    "scrolled": true
   },
   "outputs": [
    {
     "data": {
      "text/plain": [
       "salary_range\n",
       "0-10     645\n",
       "10-20    699\n",
       "20-30    211\n",
       "30-40     37\n",
       "40-50      5\n",
       "50-60      2\n",
       "60-70      2\n",
       "70+        1\n",
       "dtype: int64"
      ]
     },
     "execution_count": 38,
     "metadata": {},
     "output_type": "execute_result"
    }
   ],
   "source": [
    "DS_jobs.groupby('salary_range').size()"
   ]
  },
  {
   "cell_type": "code",
   "execution_count": 39,
   "id": "da8d9025",
   "metadata": {
    "scrolled": false
   },
   "outputs": [
    {
     "data": {
      "image/png": "[encoded data removed]",
      "text/plain": [
       "<Figure size 1000x600 with 1 Axes>"
      ]
     },
     "metadata": {},
     "output_type": "display_data"
    }
   ],
   "source": [
    "# Histogram to visualize the distribution\n",
    "plt.figure(figsize=(10, 6))\n",
    "# plt.hist(DS_jobs['salary_range'], color='skyblue', edgecolor='black',bins=7)\n",
    "sns.histplot(DS_jobs['salary_range'], color='skyblue', edgecolor='black')\n",
    "plt.title('Distribution of Average Salaries', fontsize=16)\n",
    "plt.xlabel('Average Salary (10 lacs)', fontsize=12)\n",
    "plt.ylabel('Frequency', fontsize=12)\n",
    "plt.grid(axis='y', linestyle='--', alpha=0.7)\n",
    "# plt.ticklabel_format(style='plain', axis='x')\n",
    "plt.show()"
   ]
  },
  {
   "cell_type": "markdown",
   "id": "d75860fc",
   "metadata": {},
   "source": [
    "### 2. What percentage of jobs have average salaries above ₹10 LPA (Lakhs Per Annum)?"
   ]
  },
  {
   "cell_type": "code",
   "execution_count": 40,
   "id": "29196d30",
   "metadata": {},
   "outputs": [
    {
     "name": "stdout",
     "output_type": "stream",
     "text": [
      "Percentage of jobs have average salaries above ₹10 LPA:\n",
      "59.74%\n"
     ]
    }
   ],
   "source": [
    "pr_jobs_sal_morethan_10=len(DS_jobs[DS_jobs['avg_salary']>1000000])/len(DS_jobs)*100\n",
    "print(f'Percentage of jobs have average salaries above ₹10 LPA:\\n{pr_jobs_sal_morethan_10:.2f}%')"
   ]
  },
  {
   "cell_type": "code",
   "execution_count": 41,
   "id": "382c1a8f",
   "metadata": {},
   "outputs": [
    {
     "name": "stdout",
     "output_type": "stream",
     "text": [
      "Percentage of jobs have average salaries above ₹10 LPA:\n",
      "40.26%\n"
     ]
    }
   ],
   "source": [
    "pr_jobs_sal_lessthan_10=len(DS_jobs[DS_jobs['avg_salary']<=1000000])/len(DS_jobs)*100\n",
    "print(f'Percentage of jobs have average salaries above ₹10 LPA:\\n{pr_jobs_sal_lessthan_10:.2f}%')"
   ]
  },
  {
   "cell_type": "code",
   "execution_count": 42,
   "id": "94c1c474",
   "metadata": {
    "scrolled": false
   },
   "outputs": [
    {
     "name": "stdout",
     "output_type": "stream",
     "text": [
      "Percentage of jobs have average salaries above ₹10 LPA:\n",
      "59.74%\n"
     ]
    }
   ],
   "source": [
    "# optional\n",
    "pr_jobs_sal_morethan_10=DS_jobs[DS_jobs['avg_salary']>1000000].size/DS_jobs.size*100\n",
    "print(f'Percentage of jobs have average salaries above ₹10 LPA:\\n{pr_jobs_sal_morethan_10:.2f}%')"
   ]
  },
  {
   "cell_type": "code",
   "execution_count": 43,
   "id": "663b3cdd",
   "metadata": {},
   "outputs": [],
   "source": [
    "# plt.pie??"
   ]
  },
  {
   "cell_type": "code",
   "execution_count": 44,
   "id": "68374d15",
   "metadata": {},
   "outputs": [
    {
     "data": {
      "image/png": "[encoded data removed]",
      "text/plain": [
       "<Figure size 640x480 with 1 Axes>"
      ]
     },
     "metadata": {},
     "output_type": "display_data"
    }
   ],
   "source": [
    "plt.pie(x=[pr_jobs_sal_morethan_10,pr_jobs_sal_lessthan_10],colors=['pink','purple'],labels=['More than 10L','Less than 10L'],autopct='%1.1f%%')\n",
    "plt.show()"
   ]
  },
  {
   "cell_type": "markdown",
   "id": "9ab11b36",
   "metadata": {},
   "source": [
    "### 3. How do minimum and maximum salaries compare across different companies?"
   ]
  },
  {
   "cell_type": "code",
   "execution_count": 45,
   "id": "68446acf",
   "metadata": {
    "scrolled": true
   },
   "outputs": [
    {
     "data": {
      "text/plain": [
       "642"
      ]
     },
     "execution_count": 45,
     "metadata": {},
     "output_type": "execute_result"
    }
   ],
   "source": [
    "DS_jobs['company_name'].unique().size"
   ]
  },
  {
   "cell_type": "code",
   "execution_count": 46,
   "id": "0ad95be8",
   "metadata": {
    "scrolled": false
   },
   "outputs": [
    {
     "data": {
      "image/png": "[encoded data removed]",
      "text/plain": [
       "<Figure size 1200x600 with 1 Axes>"
      ]
     },
     "metadata": {},
     "output_type": "display_data"
    }
   ],
   "source": [
    "## Select top 10 companies with the highest average salaries\n",
    "companies =DS_jobs.groupby('company_name')[['min_salary','max_salary']].mean()\n",
    "top_companies =companies.nlargest(20,'max_salary')\n",
    "# top companies whose has highest max salary\n",
    "# Plotting\n",
    "top_companies.plot(kind='bar', figsize=(12, 6), color=['skyblue', 'lightcoral'])\n",
    "plt.title('Comparison of Minimum and Maximum Salaries for Top 20 Companies', fontsize=16)\n",
    "plt.ylabel('Salary (in 10 Lacs)', fontsize=12)\n",
    "plt.xlabel('Company Name', fontsize=12)\n",
    "plt.xticks(rotation=45, ha='right')\n",
    "plt.legend(['Minimum Salary', 'Maximum Salary'], fontsize=12)\n",
    "plt.grid(axis='y', linestyle='--', alpha=0.7)\n",
    "plt.tight_layout()\n",
    "plt.show()\n"
   ]
  },
  {
   "cell_type": "code",
   "execution_count": 47,
   "id": "e01a4342",
   "metadata": {
    "scrolled": true
   },
   "outputs": [
    {
     "data": {
      "text/html": [
       "<div>\n",
       "<style scoped>\n",
       "    .dataframe tbody tr th:only-of-type {\n",
       "        vertical-align: middle;\n",
       "    }\n",
       "\n",
       "    .dataframe tbody tr th {\n",
       "        vertical-align: top;\n",
       "    }\n",
       "\n",
       "    .dataframe thead th {\n",
       "        text-align: right;\n",
       "    }\n",
       "</style>\n",
       "<table border=\"1\" class=\"dataframe\">\n",
       "  <thead>\n",
       "    <tr style=\"text-align: right;\">\n",
       "      <th></th>\n",
       "      <th>min_salary</th>\n",
       "      <th>max_salary</th>\n",
       "    </tr>\n",
       "    <tr>\n",
       "      <th>company_name</th>\n",
       "      <th></th>\n",
       "      <th></th>\n",
       "    </tr>\n",
       "  </thead>\n",
       "  <tbody>\n",
       "    <tr>\n",
       "      <th>3i Infotech</th>\n",
       "      <td>540000.00</td>\n",
       "      <td>1245000.00</td>\n",
       "    </tr>\n",
       "    <tr>\n",
       "      <th>AAIC Technologies</th>\n",
       "      <td>600000.00</td>\n",
       "      <td>1480000.00</td>\n",
       "    </tr>\n",
       "    <tr>\n",
       "      <th>ABB Group</th>\n",
       "      <td>830000.00</td>\n",
       "      <td>1900000.00</td>\n",
       "    </tr>\n",
       "    <tr>\n",
       "      <th>ABC</th>\n",
       "      <td>490000.00</td>\n",
       "      <td>2800000.00</td>\n",
       "    </tr>\n",
       "    <tr>\n",
       "      <th>ACL Digital</th>\n",
       "      <td>1070000.00</td>\n",
       "      <td>2500000.00</td>\n",
       "    </tr>\n",
       "    <tr>\n",
       "      <th>...</th>\n",
       "      <td>...</td>\n",
       "      <td>...</td>\n",
       "    </tr>\n",
       "    <tr>\n",
       "      <th>iNeuron.ai</th>\n",
       "      <td>300000.00</td>\n",
       "      <td>800000.00</td>\n",
       "    </tr>\n",
       "    <tr>\n",
       "      <th>iOPEX Technologies</th>\n",
       "      <td>350000.00</td>\n",
       "      <td>1200000.00</td>\n",
       "    </tr>\n",
       "    <tr>\n",
       "      <th>nThrive Global Solutions</th>\n",
       "      <td>780000.00</td>\n",
       "      <td>1760000.00</td>\n",
       "    </tr>\n",
       "    <tr>\n",
       "      <th>o9 Solutions</th>\n",
       "      <td>1225000.00</td>\n",
       "      <td>2275000.00</td>\n",
       "    </tr>\n",
       "    <tr>\n",
       "      <th>phData</th>\n",
       "      <td>1600000.00</td>\n",
       "      <td>2500000.00</td>\n",
       "    </tr>\n",
       "  </tbody>\n",
       "</table>\n",
       "<p>642 rows × 2 columns</p>\n",
       "</div>"
      ],
      "text/plain": [
       "                          min_salary  max_salary\n",
       "company_name                                    \n",
       "3i Infotech                540000.00  1245000.00\n",
       "AAIC Technologies          600000.00  1480000.00\n",
       "ABB Group                  830000.00  1900000.00\n",
       "ABC                        490000.00  2800000.00\n",
       "ACL Digital               1070000.00  2500000.00\n",
       "...                              ...         ...\n",
       "iNeuron.ai                 300000.00   800000.00\n",
       "iOPEX Technologies         350000.00  1200000.00\n",
       "nThrive Global Solutions   780000.00  1760000.00\n",
       "o9 Solutions              1225000.00  2275000.00\n",
       "phData                    1600000.00  2500000.00\n",
       "\n",
       "[642 rows x 2 columns]"
      ]
     },
     "execution_count": 47,
     "metadata": {},
     "output_type": "execute_result"
    }
   ],
   "source": [
    "companies"
   ]
  },
  {
   "cell_type": "code",
   "execution_count": 48,
   "id": "3d8212e8",
   "metadata": {},
   "outputs": [
    {
     "data": {
      "image/png": "[encoded data removed]",
      "text/plain": [
       "<Figure size 1200x600 with 1 Axes>"
      ]
     },
     "metadata": {},
     "output_type": "display_data"
    }
   ],
   "source": [
    "## Select top 10 companies with the highest average salaries\n",
    "top_companies_min =companies.nlargest(20,'min_salary')\n",
    "# top companies whose has highest min salary\n",
    "# Plotting\n",
    "top_companies_min.plot(kind='bar', figsize=(12, 6), color=['skyblue', 'lightcoral'])\n",
    "plt.title('Comparison of Minimum and Maximum Salaries for Top 20 Companies', fontsize=16)\n",
    "plt.ylabel('Salary (in 10 lacs)', fontsize=12)\n",
    "plt.xlabel('Company Name', fontsize=12)\n",
    "plt.xticks(rotation=45, ha='right')\n",
    "plt.legend(['Minimum Salary', 'Maximum Salary'], fontsize=12)\n",
    "plt.grid(axis='y', linestyle='--', alpha=0.7)\n",
    "plt.tight_layout()\n",
    "plt.show()\n",
    "\n",
    "# Kloud 9 ki max and min salry dono to 20 me hai"
   ]
  },
  {
   "cell_type": "markdown",
   "id": "67654d44",
   "metadata": {},
   "source": [
    "### 4. Are there significant gaps between the average salary and the minimum/maximum salaries?"
   ]
  },
  {
   "cell_type": "code",
   "execution_count": 49,
   "id": "3976e306",
   "metadata": {},
   "outputs": [],
   "source": [
    "DS_jobs['diff_bw_avg_min']=DS_jobs['avg_salary']-DS_jobs['min_salary']\n",
    "DS_jobs['diff_bw_avg_max']=DS_jobs['max_salary']-DS_jobs['avg_salary']"
   ]
  },
  {
   "cell_type": "code",
   "execution_count": 50,
   "id": "6dc7d8e2",
   "metadata": {
    "scrolled": false
   },
   "outputs": [
    {
     "data": {
      "text/html": [
       "<div>\n",
       "<style scoped>\n",
       "    .dataframe tbody tr th:only-of-type {\n",
       "        vertical-align: middle;\n",
       "    }\n",
       "\n",
       "    .dataframe tbody tr th {\n",
       "        vertical-align: top;\n",
       "    }\n",
       "\n",
       "    .dataframe thead th {\n",
       "        text-align: right;\n",
       "    }\n",
       "</style>\n",
       "<table border=\"1\" class=\"dataframe\">\n",
       "  <thead>\n",
       "    <tr style=\"text-align: right;\">\n",
       "      <th></th>\n",
       "      <th>company_name</th>\n",
       "      <th>job_title</th>\n",
       "      <th>min_experience</th>\n",
       "      <th>avg_salary</th>\n",
       "      <th>min_salary</th>\n",
       "      <th>max_salary</th>\n",
       "      <th>num_of_salaries</th>\n",
       "      <th>label_to_experiance</th>\n",
       "      <th>salary_range</th>\n",
       "      <th>diff_bw_avg_min</th>\n",
       "      <th>diff_bw_avg_max</th>\n",
       "    </tr>\n",
       "  </thead>\n",
       "  <tbody>\n",
       "    <tr>\n",
       "      <th>0</th>\n",
       "      <td>TCS</td>\n",
       "      <td>Data Scientist</td>\n",
       "      <td>2</td>\n",
       "      <td>780000.00</td>\n",
       "      <td>450000.00</td>\n",
       "      <td>1600000.00</td>\n",
       "      <td>841</td>\n",
       "      <td>Entry-Level</td>\n",
       "      <td>0-10</td>\n",
       "      <td>330000.00</td>\n",
       "      <td>820000.00</td>\n",
       "    </tr>\n",
       "    <tr>\n",
       "      <th>1</th>\n",
       "      <td>Accenture</td>\n",
       "      <td>Data Scientist</td>\n",
       "      <td>2</td>\n",
       "      <td>1280000.00</td>\n",
       "      <td>580000.00</td>\n",
       "      <td>2300000.00</td>\n",
       "      <td>501</td>\n",
       "      <td>Entry-Level</td>\n",
       "      <td>10-20</td>\n",
       "      <td>700000.00</td>\n",
       "      <td>1020000.00</td>\n",
       "    </tr>\n",
       "    <tr>\n",
       "      <th>2</th>\n",
       "      <td>IBM</td>\n",
       "      <td>Data Scientist</td>\n",
       "      <td>2</td>\n",
       "      <td>1340000.00</td>\n",
       "      <td>530000.00</td>\n",
       "      <td>2500000.00</td>\n",
       "      <td>394</td>\n",
       "      <td>Entry-Level</td>\n",
       "      <td>10-20</td>\n",
       "      <td>810000.00</td>\n",
       "      <td>1160000.00</td>\n",
       "    </tr>\n",
       "    <tr>\n",
       "      <th>3</th>\n",
       "      <td>Cognizant</td>\n",
       "      <td>Data Scientist</td>\n",
       "      <td>2</td>\n",
       "      <td>980000.00</td>\n",
       "      <td>500000.00</td>\n",
       "      <td>1800000.00</td>\n",
       "      <td>318</td>\n",
       "      <td>Entry-Level</td>\n",
       "      <td>0-10</td>\n",
       "      <td>480000.00</td>\n",
       "      <td>820000.00</td>\n",
       "    </tr>\n",
       "    <tr>\n",
       "      <th>4</th>\n",
       "      <td>Capgemini</td>\n",
       "      <td>Data Scientist</td>\n",
       "      <td>2</td>\n",
       "      <td>860000.00</td>\n",
       "      <td>480000.00</td>\n",
       "      <td>1460000.00</td>\n",
       "      <td>300</td>\n",
       "      <td>Entry-Level</td>\n",
       "      <td>0-10</td>\n",
       "      <td>380000.00</td>\n",
       "      <td>600000.00</td>\n",
       "    </tr>\n",
       "  </tbody>\n",
       "</table>\n",
       "</div>"
      ],
      "text/plain": [
       "  company_name       job_title  min_experience  avg_salary  min_salary  \\\n",
       "0          TCS  Data Scientist               2   780000.00   450000.00   \n",
       "1    Accenture  Data Scientist               2  1280000.00   580000.00   \n",
       "2          IBM  Data Scientist               2  1340000.00   530000.00   \n",
       "3    Cognizant  Data Scientist               2   980000.00   500000.00   \n",
       "4    Capgemini  Data Scientist               2   860000.00   480000.00   \n",
       "\n",
       "   max_salary  num_of_salaries label_to_experiance salary_range  \\\n",
       "0  1600000.00              841         Entry-Level         0-10   \n",
       "1  2300000.00              501         Entry-Level        10-20   \n",
       "2  2500000.00              394         Entry-Level        10-20   \n",
       "3  1800000.00              318         Entry-Level         0-10   \n",
       "4  1460000.00              300         Entry-Level         0-10   \n",
       "\n",
       "   diff_bw_avg_min  diff_bw_avg_max  \n",
       "0        330000.00        820000.00  \n",
       "1        700000.00       1020000.00  \n",
       "2        810000.00       1160000.00  \n",
       "3        480000.00        820000.00  \n",
       "4        380000.00        600000.00  "
      ]
     },
     "execution_count": 50,
     "metadata": {},
     "output_type": "execute_result"
    }
   ],
   "source": [
    "DS_jobs.head()"
   ]
  },
  {
   "cell_type": "code",
   "execution_count": 51,
   "id": "b3c4699d",
   "metadata": {
    "scrolled": true
   },
   "outputs": [
    {
     "data": {
      "text/plain": [
       "<Axes: >"
      ]
     },
     "execution_count": 51,
     "metadata": {},
     "output_type": "execute_result"
    },
    {
     "data": {
      "image/png": "[encoded data removed]",
      "text/plain": [
       "<Figure size 640x480 with 1 Axes>"
      ]
     },
     "metadata": {},
     "output_type": "display_data"
    }
   ],
   "source": [
    "DS_jobs.plot(x='job_title',y='diff_bw_avg_min',kind='box')"
   ]
  },
  {
   "cell_type": "code",
   "execution_count": 52,
   "id": "696702e7",
   "metadata": {},
   "outputs": [
    {
     "data": {
      "text/html": [
       "<div>\n",
       "<style scoped>\n",
       "    .dataframe tbody tr th:only-of-type {\n",
       "        vertical-align: middle;\n",
       "    }\n",
       "\n",
       "    .dataframe tbody tr th {\n",
       "        vertical-align: top;\n",
       "    }\n",
       "\n",
       "    .dataframe thead th {\n",
       "        text-align: right;\n",
       "    }\n",
       "</style>\n",
       "<table border=\"1\" class=\"dataframe\">\n",
       "  <thead>\n",
       "    <tr style=\"text-align: right;\">\n",
       "      <th></th>\n",
       "      <th>job_title</th>\n",
       "      <th>diff_bw_avg_min</th>\n",
       "    </tr>\n",
       "  </thead>\n",
       "  <tbody>\n",
       "    <tr>\n",
       "      <th>0</th>\n",
       "      <td>Data Scientist</td>\n",
       "      <td>1860000.00</td>\n",
       "    </tr>\n",
       "    <tr>\n",
       "      <th>1</th>\n",
       "      <td>Data Scientist</td>\n",
       "      <td>1910000.00</td>\n",
       "    </tr>\n",
       "    <tr>\n",
       "      <th>2</th>\n",
       "      <td>Data Scientist</td>\n",
       "      <td>1270000.00</td>\n",
       "    </tr>\n",
       "    <tr>\n",
       "      <th>3</th>\n",
       "      <td>Data Scientist</td>\n",
       "      <td>1290000.00</td>\n",
       "    </tr>\n",
       "    <tr>\n",
       "      <th>4</th>\n",
       "      <td>Data Scientist</td>\n",
       "      <td>1270000.00</td>\n",
       "    </tr>\n",
       "    <tr>\n",
       "      <th>5</th>\n",
       "      <td>Data Scientist</td>\n",
       "      <td>1210000.00</td>\n",
       "    </tr>\n",
       "    <tr>\n",
       "      <th>6</th>\n",
       "      <td>Data Scientist</td>\n",
       "      <td>1400000.00</td>\n",
       "    </tr>\n",
       "    <tr>\n",
       "      <th>7</th>\n",
       "      <td>Data Scientist</td>\n",
       "      <td>2540000.00</td>\n",
       "    </tr>\n",
       "    <tr>\n",
       "      <th>8</th>\n",
       "      <td>Data Scientist</td>\n",
       "      <td>1270000.00</td>\n",
       "    </tr>\n",
       "    <tr>\n",
       "      <th>9</th>\n",
       "      <td>Data Analyst</td>\n",
       "      <td>1290000.00</td>\n",
       "    </tr>\n",
       "    <tr>\n",
       "      <th>10</th>\n",
       "      <td>Data Engineer</td>\n",
       "      <td>1160000.00</td>\n",
       "    </tr>\n",
       "    <tr>\n",
       "      <th>11</th>\n",
       "      <td>Data Engineer</td>\n",
       "      <td>1210000.00</td>\n",
       "    </tr>\n",
       "    <tr>\n",
       "      <th>12</th>\n",
       "      <td>Data Engineer</td>\n",
       "      <td>2880000.00</td>\n",
       "    </tr>\n",
       "    <tr>\n",
       "      <th>13</th>\n",
       "      <td>Data Engineer</td>\n",
       "      <td>1220000.00</td>\n",
       "    </tr>\n",
       "    <tr>\n",
       "      <th>14</th>\n",
       "      <td>Data Engineer</td>\n",
       "      <td>2010000.00</td>\n",
       "    </tr>\n",
       "    <tr>\n",
       "      <th>15</th>\n",
       "      <td>Senior Data Scientist</td>\n",
       "      <td>1300000.00</td>\n",
       "    </tr>\n",
       "    <tr>\n",
       "      <th>16</th>\n",
       "      <td>Senior Data Scientist</td>\n",
       "      <td>1550000.00</td>\n",
       "    </tr>\n",
       "    <tr>\n",
       "      <th>17</th>\n",
       "      <td>Senior Data Scientist</td>\n",
       "      <td>1600000.00</td>\n",
       "    </tr>\n",
       "    <tr>\n",
       "      <th>18</th>\n",
       "      <td>Senior Data Scientist</td>\n",
       "      <td>2640000.00</td>\n",
       "    </tr>\n",
       "    <tr>\n",
       "      <th>19</th>\n",
       "      <td>Senior Data Scientist</td>\n",
       "      <td>1360000.00</td>\n",
       "    </tr>\n",
       "    <tr>\n",
       "      <th>20</th>\n",
       "      <td>Senior Data Scientist</td>\n",
       "      <td>1420000.00</td>\n",
       "    </tr>\n",
       "    <tr>\n",
       "      <th>21</th>\n",
       "      <td>Senior Data Scientist</td>\n",
       "      <td>1370000.00</td>\n",
       "    </tr>\n",
       "    <tr>\n",
       "      <th>22</th>\n",
       "      <td>Senior Data Scientist</td>\n",
       "      <td>1450000.00</td>\n",
       "    </tr>\n",
       "    <tr>\n",
       "      <th>23</th>\n",
       "      <td>Senior Data Scientist</td>\n",
       "      <td>1170000.00</td>\n",
       "    </tr>\n",
       "    <tr>\n",
       "      <th>24</th>\n",
       "      <td>Senior Data Scientist</td>\n",
       "      <td>1570000.00</td>\n",
       "    </tr>\n",
       "    <tr>\n",
       "      <th>25</th>\n",
       "      <td>Senior Data Scientist</td>\n",
       "      <td>1720000.00</td>\n",
       "    </tr>\n",
       "    <tr>\n",
       "      <th>26</th>\n",
       "      <td>Senior Data Scientist</td>\n",
       "      <td>1940000.00</td>\n",
       "    </tr>\n",
       "    <tr>\n",
       "      <th>27</th>\n",
       "      <td>Senior Data Scientist</td>\n",
       "      <td>1310000.00</td>\n",
       "    </tr>\n",
       "    <tr>\n",
       "      <th>28</th>\n",
       "      <td>Senior Data Scientist</td>\n",
       "      <td>1160000.00</td>\n",
       "    </tr>\n",
       "    <tr>\n",
       "      <th>29</th>\n",
       "      <td>Senior Data Scientist</td>\n",
       "      <td>3370000.00</td>\n",
       "    </tr>\n",
       "    <tr>\n",
       "      <th>30</th>\n",
       "      <td>Senior Data Scientist</td>\n",
       "      <td>2700000.00</td>\n",
       "    </tr>\n",
       "    <tr>\n",
       "      <th>31</th>\n",
       "      <td>Senior Data Scientist</td>\n",
       "      <td>1340000.00</td>\n",
       "    </tr>\n",
       "    <tr>\n",
       "      <th>32</th>\n",
       "      <td>Senior Data Scientist</td>\n",
       "      <td>1660000.00</td>\n",
       "    </tr>\n",
       "    <tr>\n",
       "      <th>33</th>\n",
       "      <td>Senior Data Scientist</td>\n",
       "      <td>3280000.00</td>\n",
       "    </tr>\n",
       "    <tr>\n",
       "      <th>34</th>\n",
       "      <td>Senior Data Scientist</td>\n",
       "      <td>1500000.00</td>\n",
       "    </tr>\n",
       "    <tr>\n",
       "      <th>35</th>\n",
       "      <td>Senior Business Analyst</td>\n",
       "      <td>1560000.00</td>\n",
       "    </tr>\n",
       "    <tr>\n",
       "      <th>36</th>\n",
       "      <td>Senior Business Analyst</td>\n",
       "      <td>1210000.00</td>\n",
       "    </tr>\n",
       "    <tr>\n",
       "      <th>37</th>\n",
       "      <td>Senior Data Analyst</td>\n",
       "      <td>1250000.00</td>\n",
       "    </tr>\n",
       "    <tr>\n",
       "      <th>38</th>\n",
       "      <td>Senior Data Engineer</td>\n",
       "      <td>1270000.00</td>\n",
       "    </tr>\n",
       "    <tr>\n",
       "      <th>39</th>\n",
       "      <td>Senior Data Engineer</td>\n",
       "      <td>1210000.00</td>\n",
       "    </tr>\n",
       "    <tr>\n",
       "      <th>40</th>\n",
       "      <td>Senior Data Engineer</td>\n",
       "      <td>1300000.00</td>\n",
       "    </tr>\n",
       "    <tr>\n",
       "      <th>41</th>\n",
       "      <td>Senior Data Engineer</td>\n",
       "      <td>1400000.00</td>\n",
       "    </tr>\n",
       "    <tr>\n",
       "      <th>42</th>\n",
       "      <td>Senior Data Engineer</td>\n",
       "      <td>1420000.00</td>\n",
       "    </tr>\n",
       "    <tr>\n",
       "      <th>43</th>\n",
       "      <td>Senior Data Engineer</td>\n",
       "      <td>1590000.00</td>\n",
       "    </tr>\n",
       "    <tr>\n",
       "      <th>44</th>\n",
       "      <td>Senior Data Engineer</td>\n",
       "      <td>1300000.00</td>\n",
       "    </tr>\n",
       "    <tr>\n",
       "      <th>45</th>\n",
       "      <td>Senior Data Engineer</td>\n",
       "      <td>4830000.00</td>\n",
       "    </tr>\n",
       "    <tr>\n",
       "      <th>46</th>\n",
       "      <td>Senior Data Engineer</td>\n",
       "      <td>1470000.00</td>\n",
       "    </tr>\n",
       "    <tr>\n",
       "      <th>47</th>\n",
       "      <td>Senior Data Engineer</td>\n",
       "      <td>3180000.00</td>\n",
       "    </tr>\n",
       "    <tr>\n",
       "      <th>48</th>\n",
       "      <td>Machine Learning Engineer</td>\n",
       "      <td>1630000.00</td>\n",
       "    </tr>\n",
       "    <tr>\n",
       "      <th>49</th>\n",
       "      <td>Data Architect</td>\n",
       "      <td>2720000.00</td>\n",
       "    </tr>\n",
       "    <tr>\n",
       "      <th>50</th>\n",
       "      <td>Data Architect</td>\n",
       "      <td>1410000.00</td>\n",
       "    </tr>\n",
       "    <tr>\n",
       "      <th>51</th>\n",
       "      <td>Data Architect</td>\n",
       "      <td>2250000.00</td>\n",
       "    </tr>\n",
       "    <tr>\n",
       "      <th>52</th>\n",
       "      <td>Data Architect</td>\n",
       "      <td>1500000.00</td>\n",
       "    </tr>\n",
       "  </tbody>\n",
       "</table>\n",
       "</div>"
      ],
      "text/plain": [
       "                    job_title  diff_bw_avg_min\n",
       "0              Data Scientist       1860000.00\n",
       "1              Data Scientist       1910000.00\n",
       "2              Data Scientist       1270000.00\n",
       "3              Data Scientist       1290000.00\n",
       "4              Data Scientist       1270000.00\n",
       "5              Data Scientist       1210000.00\n",
       "6              Data Scientist       1400000.00\n",
       "7              Data Scientist       2540000.00\n",
       "8              Data Scientist       1270000.00\n",
       "9                Data Analyst       1290000.00\n",
       "10              Data Engineer       1160000.00\n",
       "11              Data Engineer       1210000.00\n",
       "12              Data Engineer       2880000.00\n",
       "13              Data Engineer       1220000.00\n",
       "14              Data Engineer       2010000.00\n",
       "15      Senior Data Scientist       1300000.00\n",
       "16      Senior Data Scientist       1550000.00\n",
       "17      Senior Data Scientist       1600000.00\n",
       "18      Senior Data Scientist       2640000.00\n",
       "19      Senior Data Scientist       1360000.00\n",
       "20      Senior Data Scientist       1420000.00\n",
       "21      Senior Data Scientist       1370000.00\n",
       "22      Senior Data Scientist       1450000.00\n",
       "23      Senior Data Scientist       1170000.00\n",
       "24      Senior Data Scientist       1570000.00\n",
       "25      Senior Data Scientist       1720000.00\n",
       "26      Senior Data Scientist       1940000.00\n",
       "27      Senior Data Scientist       1310000.00\n",
       "28      Senior Data Scientist       1160000.00\n",
       "29      Senior Data Scientist       3370000.00\n",
       "30      Senior Data Scientist       2700000.00\n",
       "31      Senior Data Scientist       1340000.00\n",
       "32      Senior Data Scientist       1660000.00\n",
       "33      Senior Data Scientist       3280000.00\n",
       "34      Senior Data Scientist       1500000.00\n",
       "35    Senior Business Analyst       1560000.00\n",
       "36    Senior Business Analyst       1210000.00\n",
       "37        Senior Data Analyst       1250000.00\n",
       "38       Senior Data Engineer       1270000.00\n",
       "39       Senior Data Engineer       1210000.00\n",
       "40       Senior Data Engineer       1300000.00\n",
       "41       Senior Data Engineer       1400000.00\n",
       "42       Senior Data Engineer       1420000.00\n",
       "43       Senior Data Engineer       1590000.00\n",
       "44       Senior Data Engineer       1300000.00\n",
       "45       Senior Data Engineer       4830000.00\n",
       "46       Senior Data Engineer       1470000.00\n",
       "47       Senior Data Engineer       3180000.00\n",
       "48  Machine Learning Engineer       1630000.00\n",
       "49             Data Architect       2720000.00\n",
       "50             Data Architect       1410000.00\n",
       "51             Data Architect       2250000.00\n",
       "52             Data Architect       1500000.00"
      ]
     },
     "execution_count": 52,
     "metadata": {},
     "output_type": "execute_result"
    }
   ],
   "source": [
    "# Calculate Q1, Q3, and IQR\n",
    "Q1 = DS_jobs['diff_bw_avg_min'].quantile(0.25)\n",
    "Q3 = DS_jobs['diff_bw_avg_min'].quantile(0.75)\n",
    "IQR = Q3 - Q1\n",
    "\n",
    "# Calculate the limit for outliers\n",
    "lower_bound = Q1 - 1.5 * IQR\n",
    "upper_bound = Q3 + 1.5 * IQR\n",
    "\n",
    "# get the outliers\n",
    "outliers = DS_jobs[(DS_jobs['diff_bw_avg_min'] < lower_bound) | (DS_jobs['diff_bw_avg_min'] > upper_bound)]\n",
    "\n",
    "# Display Extream gap bw avg salary and minimum salary than other's salary gap\n",
    "outliers[['job_title','diff_bw_avg_min']].reset_index(drop=True)"
   ]
  },
  {
   "cell_type": "code",
   "execution_count": 53,
   "id": "3647b97a",
   "metadata": {
    "scrolled": true
   },
   "outputs": [
    {
     "data": {
      "text/plain": [
       "<Axes: >"
      ]
     },
     "execution_count": 53,
     "metadata": {},
     "output_type": "execute_result"
    },
    {
     "data": {
      "image/png": "[encoded data removed]",
      "text/plain": [
       "<Figure size 640x480 with 1 Axes>"
      ]
     },
     "metadata": {},
     "output_type": "display_data"
    }
   ],
   "source": [
    "DS_jobs.plot(x='job_title',y='diff_bw_avg_max',kind='box')"
   ]
  },
  {
   "cell_type": "code",
   "execution_count": 54,
   "id": "a56b488a",
   "metadata": {},
   "outputs": [
    {
     "data": {
      "text/html": [
       "<div>\n",
       "<style scoped>\n",
       "    .dataframe tbody tr th:only-of-type {\n",
       "        vertical-align: middle;\n",
       "    }\n",
       "\n",
       "    .dataframe tbody tr th {\n",
       "        vertical-align: top;\n",
       "    }\n",
       "\n",
       "    .dataframe thead th {\n",
       "        text-align: right;\n",
       "    }\n",
       "</style>\n",
       "<table border=\"1\" class=\"dataframe\">\n",
       "  <thead>\n",
       "    <tr style=\"text-align: right;\">\n",
       "      <th></th>\n",
       "      <th>job_title</th>\n",
       "      <th>diff_bw_avg_max</th>\n",
       "    </tr>\n",
       "  </thead>\n",
       "  <tbody>\n",
       "    <tr>\n",
       "      <th>0</th>\n",
       "      <td>Data Scientist</td>\n",
       "      <td>1470000.00</td>\n",
       "    </tr>\n",
       "    <tr>\n",
       "      <th>1</th>\n",
       "      <td>Data Scientist</td>\n",
       "      <td>2190000.00</td>\n",
       "    </tr>\n",
       "    <tr>\n",
       "      <th>2</th>\n",
       "      <td>Data Scientist</td>\n",
       "      <td>2790000.00</td>\n",
       "    </tr>\n",
       "    <tr>\n",
       "      <th>3</th>\n",
       "      <td>Data Scientist</td>\n",
       "      <td>1440000.00</td>\n",
       "    </tr>\n",
       "    <tr>\n",
       "      <th>4</th>\n",
       "      <td>Data Scientist</td>\n",
       "      <td>1730000.00</td>\n",
       "    </tr>\n",
       "    <tr>\n",
       "      <th>5</th>\n",
       "      <td>Data Scientist</td>\n",
       "      <td>2270000.00</td>\n",
       "    </tr>\n",
       "    <tr>\n",
       "      <th>6</th>\n",
       "      <td>Data Scientist</td>\n",
       "      <td>1880000.00</td>\n",
       "    </tr>\n",
       "    <tr>\n",
       "      <th>7</th>\n",
       "      <td>Data Scientist</td>\n",
       "      <td>1580000.00</td>\n",
       "    </tr>\n",
       "    <tr>\n",
       "      <th>8</th>\n",
       "      <td>Data Scientist</td>\n",
       "      <td>1580000.00</td>\n",
       "    </tr>\n",
       "    <tr>\n",
       "      <th>9</th>\n",
       "      <td>Data Scientist</td>\n",
       "      <td>1590000.00</td>\n",
       "    </tr>\n",
       "    <tr>\n",
       "      <th>10</th>\n",
       "      <td>Data Scientist</td>\n",
       "      <td>1500000.00</td>\n",
       "    </tr>\n",
       "    <tr>\n",
       "      <th>11</th>\n",
       "      <td>Data Scientist</td>\n",
       "      <td>1460000.00</td>\n",
       "    </tr>\n",
       "    <tr>\n",
       "      <th>12</th>\n",
       "      <td>Data Scientist</td>\n",
       "      <td>1560000.00</td>\n",
       "    </tr>\n",
       "    <tr>\n",
       "      <th>13</th>\n",
       "      <td>Data Scientist</td>\n",
       "      <td>4090000.00</td>\n",
       "    </tr>\n",
       "    <tr>\n",
       "      <th>14</th>\n",
       "      <td>Data Scientist</td>\n",
       "      <td>1730000.00</td>\n",
       "    </tr>\n",
       "    <tr>\n",
       "      <th>15</th>\n",
       "      <td>Data Scientist</td>\n",
       "      <td>1610000.00</td>\n",
       "    </tr>\n",
       "    <tr>\n",
       "      <th>16</th>\n",
       "      <td>Business Analyst</td>\n",
       "      <td>1510000.00</td>\n",
       "    </tr>\n",
       "    <tr>\n",
       "      <th>17</th>\n",
       "      <td>Data Analyst</td>\n",
       "      <td>1610000.00</td>\n",
       "    </tr>\n",
       "    <tr>\n",
       "      <th>18</th>\n",
       "      <td>Data Analyst</td>\n",
       "      <td>3450000.00</td>\n",
       "    </tr>\n",
       "    <tr>\n",
       "      <th>19</th>\n",
       "      <td>Data Analyst</td>\n",
       "      <td>1440000.00</td>\n",
       "    </tr>\n",
       "    <tr>\n",
       "      <th>20</th>\n",
       "      <td>Data Analyst</td>\n",
       "      <td>1700000.00</td>\n",
       "    </tr>\n",
       "    <tr>\n",
       "      <th>21</th>\n",
       "      <td>Data Engineer</td>\n",
       "      <td>1800000.00</td>\n",
       "    </tr>\n",
       "    <tr>\n",
       "      <th>22</th>\n",
       "      <td>Data Engineer</td>\n",
       "      <td>1460000.00</td>\n",
       "    </tr>\n",
       "    <tr>\n",
       "      <th>23</th>\n",
       "      <td>Data Engineer</td>\n",
       "      <td>1500000.00</td>\n",
       "    </tr>\n",
       "    <tr>\n",
       "      <th>24</th>\n",
       "      <td>Data Engineer</td>\n",
       "      <td>1480000.00</td>\n",
       "    </tr>\n",
       "    <tr>\n",
       "      <th>25</th>\n",
       "      <td>Data Engineer</td>\n",
       "      <td>4820000.00</td>\n",
       "    </tr>\n",
       "    <tr>\n",
       "      <th>26</th>\n",
       "      <td>Senior Data Scientist</td>\n",
       "      <td>2200000.00</td>\n",
       "    </tr>\n",
       "    <tr>\n",
       "      <th>27</th>\n",
       "      <td>Senior Data Scientist</td>\n",
       "      <td>3350000.00</td>\n",
       "    </tr>\n",
       "    <tr>\n",
       "      <th>28</th>\n",
       "      <td>Senior Data Scientist</td>\n",
       "      <td>2040000.00</td>\n",
       "    </tr>\n",
       "    <tr>\n",
       "      <th>29</th>\n",
       "      <td>Senior Data Scientist</td>\n",
       "      <td>4360000.00</td>\n",
       "    </tr>\n",
       "    <tr>\n",
       "      <th>30</th>\n",
       "      <td>Senior Data Scientist</td>\n",
       "      <td>1600000.00</td>\n",
       "    </tr>\n",
       "    <tr>\n",
       "      <th>31</th>\n",
       "      <td>Senior Data Scientist</td>\n",
       "      <td>1840000.00</td>\n",
       "    </tr>\n",
       "    <tr>\n",
       "      <th>32</th>\n",
       "      <td>Senior Data Scientist</td>\n",
       "      <td>1660000.00</td>\n",
       "    </tr>\n",
       "    <tr>\n",
       "      <th>33</th>\n",
       "      <td>Senior Data Scientist</td>\n",
       "      <td>1700000.00</td>\n",
       "    </tr>\n",
       "    <tr>\n",
       "      <th>34</th>\n",
       "      <td>Senior Data Scientist</td>\n",
       "      <td>2330000.00</td>\n",
       "    </tr>\n",
       "    <tr>\n",
       "      <th>35</th>\n",
       "      <td>Senior Data Scientist</td>\n",
       "      <td>2050000.00</td>\n",
       "    </tr>\n",
       "    <tr>\n",
       "      <th>36</th>\n",
       "      <td>Senior Data Scientist</td>\n",
       "      <td>1440000.00</td>\n",
       "    </tr>\n",
       "    <tr>\n",
       "      <th>37</th>\n",
       "      <td>Senior Data Scientist</td>\n",
       "      <td>1820000.00</td>\n",
       "    </tr>\n",
       "    <tr>\n",
       "      <th>38</th>\n",
       "      <td>Senior Data Scientist</td>\n",
       "      <td>5730000.00</td>\n",
       "    </tr>\n",
       "    <tr>\n",
       "      <th>39</th>\n",
       "      <td>Senior Data Scientist</td>\n",
       "      <td>1800000.00</td>\n",
       "    </tr>\n",
       "    <tr>\n",
       "      <th>40</th>\n",
       "      <td>Senior Data Scientist</td>\n",
       "      <td>4860000.00</td>\n",
       "    </tr>\n",
       "    <tr>\n",
       "      <th>41</th>\n",
       "      <td>Senior Business Analyst</td>\n",
       "      <td>1500000.00</td>\n",
       "    </tr>\n",
       "    <tr>\n",
       "      <th>42</th>\n",
       "      <td>Senior Data Analyst</td>\n",
       "      <td>1690000.00</td>\n",
       "    </tr>\n",
       "    <tr>\n",
       "      <th>43</th>\n",
       "      <td>Senior Data Analyst</td>\n",
       "      <td>1730000.00</td>\n",
       "    </tr>\n",
       "    <tr>\n",
       "      <th>44</th>\n",
       "      <td>Senior Data Engineer</td>\n",
       "      <td>2180000.00</td>\n",
       "    </tr>\n",
       "    <tr>\n",
       "      <th>45</th>\n",
       "      <td>Senior Data Engineer</td>\n",
       "      <td>2570000.00</td>\n",
       "    </tr>\n",
       "    <tr>\n",
       "      <th>46</th>\n",
       "      <td>Senior Data Engineer</td>\n",
       "      <td>3380000.00</td>\n",
       "    </tr>\n",
       "    <tr>\n",
       "      <th>47</th>\n",
       "      <td>Senior Data Engineer</td>\n",
       "      <td>2670000.00</td>\n",
       "    </tr>\n",
       "    <tr>\n",
       "      <th>48</th>\n",
       "      <td>Machine Learning Engineer</td>\n",
       "      <td>1600000.00</td>\n",
       "    </tr>\n",
       "    <tr>\n",
       "      <th>49</th>\n",
       "      <td>Machine Learning Engineer</td>\n",
       "      <td>1670000.00</td>\n",
       "    </tr>\n",
       "    <tr>\n",
       "      <th>50</th>\n",
       "      <td>Data Architect</td>\n",
       "      <td>1820000.00</td>\n",
       "    </tr>\n",
       "    <tr>\n",
       "      <th>51</th>\n",
       "      <td>Data Architect</td>\n",
       "      <td>1540000.00</td>\n",
       "    </tr>\n",
       "    <tr>\n",
       "      <th>52</th>\n",
       "      <td>Data Architect</td>\n",
       "      <td>4240000.00</td>\n",
       "    </tr>\n",
       "    <tr>\n",
       "      <th>53</th>\n",
       "      <td>Data Architect</td>\n",
       "      <td>6550000.00</td>\n",
       "    </tr>\n",
       "  </tbody>\n",
       "</table>\n",
       "</div>"
      ],
      "text/plain": [
       "                    job_title  diff_bw_avg_max\n",
       "0              Data Scientist       1470000.00\n",
       "1              Data Scientist       2190000.00\n",
       "2              Data Scientist       2790000.00\n",
       "3              Data Scientist       1440000.00\n",
       "4              Data Scientist       1730000.00\n",
       "5              Data Scientist       2270000.00\n",
       "6              Data Scientist       1880000.00\n",
       "7              Data Scientist       1580000.00\n",
       "8              Data Scientist       1580000.00\n",
       "9              Data Scientist       1590000.00\n",
       "10             Data Scientist       1500000.00\n",
       "11             Data Scientist       1460000.00\n",
       "12             Data Scientist       1560000.00\n",
       "13             Data Scientist       4090000.00\n",
       "14             Data Scientist       1730000.00\n",
       "15             Data Scientist       1610000.00\n",
       "16           Business Analyst       1510000.00\n",
       "17               Data Analyst       1610000.00\n",
       "18               Data Analyst       3450000.00\n",
       "19               Data Analyst       1440000.00\n",
       "20               Data Analyst       1700000.00\n",
       "21              Data Engineer       1800000.00\n",
       "22              Data Engineer       1460000.00\n",
       "23              Data Engineer       1500000.00\n",
       "24              Data Engineer       1480000.00\n",
       "25              Data Engineer       4820000.00\n",
       "26      Senior Data Scientist       2200000.00\n",
       "27      Senior Data Scientist       3350000.00\n",
       "28      Senior Data Scientist       2040000.00\n",
       "29      Senior Data Scientist       4360000.00\n",
       "30      Senior Data Scientist       1600000.00\n",
       "31      Senior Data Scientist       1840000.00\n",
       "32      Senior Data Scientist       1660000.00\n",
       "33      Senior Data Scientist       1700000.00\n",
       "34      Senior Data Scientist       2330000.00\n",
       "35      Senior Data Scientist       2050000.00\n",
       "36      Senior Data Scientist       1440000.00\n",
       "37      Senior Data Scientist       1820000.00\n",
       "38      Senior Data Scientist       5730000.00\n",
       "39      Senior Data Scientist       1800000.00\n",
       "40      Senior Data Scientist       4860000.00\n",
       "41    Senior Business Analyst       1500000.00\n",
       "42        Senior Data Analyst       1690000.00\n",
       "43        Senior Data Analyst       1730000.00\n",
       "44       Senior Data Engineer       2180000.00\n",
       "45       Senior Data Engineer       2570000.00\n",
       "46       Senior Data Engineer       3380000.00\n",
       "47       Senior Data Engineer       2670000.00\n",
       "48  Machine Learning Engineer       1600000.00\n",
       "49  Machine Learning Engineer       1670000.00\n",
       "50             Data Architect       1820000.00\n",
       "51             Data Architect       1540000.00\n",
       "52             Data Architect       4240000.00\n",
       "53             Data Architect       6550000.00"
      ]
     },
     "execution_count": 54,
     "metadata": {},
     "output_type": "execute_result"
    }
   ],
   "source": [
    "# Calculate Q1, Q3, and IQR\n",
    "Q1 = DS_jobs['diff_bw_avg_max'].quantile(0.25)\n",
    "Q3 = DS_jobs['diff_bw_avg_max'].quantile(0.75)\n",
    "IQR = Q3 - Q1\n",
    "\n",
    "# Calculate the bounds for outliers\n",
    "lower_bound = Q1 - 1.5 * IQR\n",
    "upper_bound = Q3 + 1.5 * IQR\n",
    "\n",
    "# Filter the outliers\n",
    "outliers = DS_jobs[(DS_jobs['diff_bw_avg_max'] < lower_bound) | (DS_jobs['diff_bw_avg_max'] > upper_bound)]\n",
    "\n",
    "# Display Extream gap bw avg salary and maximum salary than other's salary gap\n",
    "outliers[['job_title','diff_bw_avg_max']].reset_index(drop=True)"
   ]
  },
  {
   "cell_type": "code",
   "execution_count": 55,
   "id": "1a246567",
   "metadata": {
    "scrolled": true
   },
   "outputs": [
    {
     "data": {
      "text/html": [
       "<div>\n",
       "<style scoped>\n",
       "    .dataframe tbody tr th:only-of-type {\n",
       "        vertical-align: middle;\n",
       "    }\n",
       "\n",
       "    .dataframe tbody tr th {\n",
       "        vertical-align: top;\n",
       "    }\n",
       "\n",
       "    .dataframe thead th {\n",
       "        text-align: right;\n",
       "    }\n",
       "</style>\n",
       "<table border=\"1\" class=\"dataframe\">\n",
       "  <thead>\n",
       "    <tr style=\"text-align: right;\">\n",
       "      <th></th>\n",
       "      <th>diff_bw_avg_max</th>\n",
       "      <th>count</th>\n",
       "    </tr>\n",
       "  </thead>\n",
       "  <tbody>\n",
       "    <tr>\n",
       "      <th>0</th>\n",
       "      <td>650000.00</td>\n",
       "      <td>22</td>\n",
       "    </tr>\n",
       "    <tr>\n",
       "      <th>1</th>\n",
       "      <td>400000.00</td>\n",
       "      <td>22</td>\n",
       "    </tr>\n",
       "    <tr>\n",
       "      <th>2</th>\n",
       "      <td>430000.00</td>\n",
       "      <td>22</td>\n",
       "    </tr>\n",
       "    <tr>\n",
       "      <th>3</th>\n",
       "      <td>330000.00</td>\n",
       "      <td>20</td>\n",
       "    </tr>\n",
       "    <tr>\n",
       "      <th>4</th>\n",
       "      <td>420000.00</td>\n",
       "      <td>20</td>\n",
       "    </tr>\n",
       "    <tr>\n",
       "      <th>...</th>\n",
       "      <td>...</td>\n",
       "      <td>...</td>\n",
       "    </tr>\n",
       "    <tr>\n",
       "      <th>378</th>\n",
       "      <td>780000.00</td>\n",
       "      <td>1</td>\n",
       "    </tr>\n",
       "    <tr>\n",
       "      <th>379</th>\n",
       "      <td>900000.00</td>\n",
       "      <td>1</td>\n",
       "    </tr>\n",
       "    <tr>\n",
       "      <th>380</th>\n",
       "      <td>1610000.00</td>\n",
       "      <td>1</td>\n",
       "    </tr>\n",
       "    <tr>\n",
       "      <th>381</th>\n",
       "      <td>930000.00</td>\n",
       "      <td>1</td>\n",
       "    </tr>\n",
       "    <tr>\n",
       "      <th>382</th>\n",
       "      <td>70000.00</td>\n",
       "      <td>1</td>\n",
       "    </tr>\n",
       "  </tbody>\n",
       "</table>\n",
       "<p>383 rows × 2 columns</p>\n",
       "</div>"
      ],
      "text/plain": [
       "     diff_bw_avg_max  count\n",
       "0          650000.00     22\n",
       "1          400000.00     22\n",
       "2          430000.00     22\n",
       "3          330000.00     20\n",
       "4          420000.00     20\n",
       "..               ...    ...\n",
       "378        780000.00      1\n",
       "379        900000.00      1\n",
       "380       1610000.00      1\n",
       "381        930000.00      1\n",
       "382         70000.00      1\n",
       "\n",
       "[383 rows x 2 columns]"
      ]
     },
     "execution_count": 55,
     "metadata": {},
     "output_type": "execute_result"
    }
   ],
   "source": [
    "data=DS_jobs['diff_bw_avg_max'].value_counts()\n",
    "data.reset_index()\n",
    "# data[data['count']>5]['diff_bw_avg_max']\n"
   ]
  },
  {
   "cell_type": "markdown",
   "id": "9126565f",
   "metadata": {},
   "source": [
    "### 5. What is the median salary across all jobs ?"
   ]
  },
  {
   "cell_type": "code",
   "execution_count": 56,
   "id": "c220e827",
   "metadata": {
    "scrolled": false
   },
   "outputs": [
    {
     "name": "stdout",
     "output_type": "stream",
     "text": [
      "Median salary for Business Analyst job is : 830000.0000000001\n",
      "Median salary for Data Analyst job is : 500000.0\n",
      "Median salary for Data Architect job is : 2425000.0\n",
      "Median salary for Data Engineer job is : 1085000.0\n",
      "Median salary for Data Scientist job is : 1280000.0\n",
      "Median salary for Machine Learning Engineer job is : 910000.0\n",
      "Median salary for Senior Business Analyst job is : 1300000.0\n",
      "Median salary for Senior Data Analyst job is : 860000.0\n",
      "Median salary for Senior Data Engineer job is : 1760000.0000000002\n",
      "Median salary for Senior Data Scientist job is : 2120000.0\n"
     ]
    },
    {
     "data": {
      "text/html": [
       "<div>\n",
       "<style scoped>\n",
       "    .dataframe tbody tr th:only-of-type {\n",
       "        vertical-align: middle;\n",
       "    }\n",
       "\n",
       "    .dataframe tbody tr th {\n",
       "        vertical-align: top;\n",
       "    }\n",
       "\n",
       "    .dataframe thead th {\n",
       "        text-align: right;\n",
       "    }\n",
       "</style>\n",
       "<table border=\"1\" class=\"dataframe\">\n",
       "  <thead>\n",
       "    <tr style=\"text-align: right;\">\n",
       "      <th></th>\n",
       "      <th>job_title</th>\n",
       "      <th>median_sal</th>\n",
       "    </tr>\n",
       "  </thead>\n",
       "  <tbody>\n",
       "    <tr>\n",
       "      <th>0</th>\n",
       "      <td>Business Analyst</td>\n",
       "      <td>830000.00</td>\n",
       "    </tr>\n",
       "    <tr>\n",
       "      <th>1</th>\n",
       "      <td>Data Analyst</td>\n",
       "      <td>500000.00</td>\n",
       "    </tr>\n",
       "    <tr>\n",
       "      <th>2</th>\n",
       "      <td>Data Architect</td>\n",
       "      <td>2425000.00</td>\n",
       "    </tr>\n",
       "    <tr>\n",
       "      <th>3</th>\n",
       "      <td>Data Engineer</td>\n",
       "      <td>1085000.00</td>\n",
       "    </tr>\n",
       "    <tr>\n",
       "      <th>4</th>\n",
       "      <td>Data Scientist</td>\n",
       "      <td>1280000.00</td>\n",
       "    </tr>\n",
       "    <tr>\n",
       "      <th>5</th>\n",
       "      <td>Machine Learning Engineer</td>\n",
       "      <td>910000.00</td>\n",
       "    </tr>\n",
       "    <tr>\n",
       "      <th>6</th>\n",
       "      <td>Senior Business Analyst</td>\n",
       "      <td>1300000.00</td>\n",
       "    </tr>\n",
       "    <tr>\n",
       "      <th>7</th>\n",
       "      <td>Senior Data Analyst</td>\n",
       "      <td>860000.00</td>\n",
       "    </tr>\n",
       "    <tr>\n",
       "      <th>8</th>\n",
       "      <td>Senior Data Engineer</td>\n",
       "      <td>1760000.00</td>\n",
       "    </tr>\n",
       "    <tr>\n",
       "      <th>9</th>\n",
       "      <td>Senior Data Scientist</td>\n",
       "      <td>2120000.00</td>\n",
       "    </tr>\n",
       "  </tbody>\n",
       "</table>\n",
       "</div>"
      ],
      "text/plain": [
       "                   job_title  median_sal\n",
       "0           Business Analyst   830000.00\n",
       "1               Data Analyst   500000.00\n",
       "2             Data Architect  2425000.00\n",
       "3              Data Engineer  1085000.00\n",
       "4             Data Scientist  1280000.00\n",
       "5  Machine Learning Engineer   910000.00\n",
       "6    Senior Business Analyst  1300000.00\n",
       "7        Senior Data Analyst   860000.00\n",
       "8       Senior Data Engineer  1760000.00\n",
       "9      Senior Data Scientist  2120000.00"
      ]
     },
     "execution_count": 56,
     "metadata": {},
     "output_type": "execute_result"
    }
   ],
   "source": [
    "# DS_jobs.groupby('job_title')['avg_salary'].size().sort_values(ascending=False)\n",
    "median_for_all_job=DS_jobs.groupby('job_title')['avg_salary']\n",
    "md_sa=pd.DataFrame()\n",
    "for title,sal in median_for_all_job:\n",
    "    print('Median salary for', title, 'job is :' ,sal.median())\n",
    "    dict1= {'job_title':title , 'median_sal' : sal.median()}\n",
    "    hi=pd.DataFrame(dict1,index=[title])\n",
    "    md_sa=pd.concat([md_sa,hi])\n",
    "md_sa.reset_index(drop=True)"
   ]
  },
  {
   "cell_type": "code",
   "execution_count": 57,
   "id": "26c1bfec",
   "metadata": {},
   "outputs": [
    {
     "data": {
      "image/png": "[encoded data removed]",
      "text/plain": [
       "<Figure size 640x480 with 1 Axes>"
      ]
     },
     "metadata": {},
     "output_type": "display_data"
    }
   ],
   "source": [
    "md_sa.plot(kind='barh',color='teal',legend=False)\n",
    "plt.xlabel('Median Salary')\n",
    "plt.ylabel('Job Titles')\n",
    "plt.title('Median Salary per Job',fontsize=13)\n",
    "plt.show()"
   ]
  },
  {
   "cell_type": "markdown",
   "id": "6f25bda2",
   "metadata": {},
   "source": [
    "### 6.  Are there clusters of jobs with similar salary ranges?"
   ]
  },
  {
   "cell_type": "code",
   "execution_count": 58,
   "id": "ddedd9bb",
   "metadata": {
    "scrolled": false
   },
   "outputs": [
    {
     "data": {
      "text/plain": [
       "job_title\n",
       "Business Analyst             188\n",
       "Data Engineer                188\n",
       "Data Scientist               188\n",
       "Data Analyst                 187\n",
       "Senior Business Analyst      187\n",
       "Senior Data Analyst          187\n",
       "Senior Data Scientist        185\n",
       "Senior Data Engineer         183\n",
       "Machine Learning Engineer     59\n",
       "Data Architect                50\n",
       "Name: salary_range, dtype: int64"
      ]
     },
     "execution_count": 58,
     "metadata": {},
     "output_type": "execute_result"
    }
   ],
   "source": [
    "DS_jobs.groupby('job_title')['salary_range'].count().sort_values(ascending=False)"
   ]
  },
  {
   "cell_type": "code",
   "execution_count": 59,
   "id": "d3517a3e",
   "metadata": {},
   "outputs": [
    {
     "data": {
      "image/png": "[encoded data removed]",
      "text/plain": [
       "<Figure size 640x480 with 1 Axes>"
      ]
     },
     "metadata": {},
     "output_type": "display_data"
    },
    {
     "data": {
      "text/plain": [
       "salary_range\n",
       "0-10      58\n",
       "10-20    109\n",
       "20-30     18\n",
       "30-40      3\n",
       "40-50      0\n",
       "50-60      0\n",
       "60-70      0\n",
       "70+        0\n",
       "dtype: int64"
      ]
     },
     "execution_count": 59,
     "metadata": {},
     "output_type": "execute_result"
    }
   ],
   "source": [
    "sns.scatterplot(x='salary_range',y='job_title',data=DS_jobs)\n",
    "plt.show()\n",
    "# total 4 ranges fall under data scientist role\n",
    "DS_jobs[DS_jobs['job_title']=='Data Scientist'].groupby('salary_range').size()"
   ]
  },
  {
   "cell_type": "code",
   "execution_count": 60,
   "id": "30cd0342",
   "metadata": {},
   "outputs": [
    {
     "data": {
      "text/plain": [
       "salary_range\n",
       "0-10     645\n",
       "10-20    699\n",
       "20-30    211\n",
       "30-40     37\n",
       "40-50      5\n",
       "50-60      2\n",
       "60-70      2\n",
       "70+        1\n",
       "Name: job_title, dtype: int64"
      ]
     },
     "execution_count": 60,
     "metadata": {},
     "output_type": "execute_result"
    }
   ],
   "source": [
    "DS_jobs.groupby('salary_range')['job_title'].size()"
   ]
  },
  {
   "cell_type": "code",
   "execution_count": 61,
   "id": "9ed3bd08",
   "metadata": {
    "scrolled": false
   },
   "outputs": [
    {
     "data": {
      "text/plain": [
       "salary_range\n",
       "0-10     131\n",
       "10-20     57\n",
       "20-30      0\n",
       "30-40      0\n",
       "40-50      0\n",
       "50-60      0\n",
       "60-70      0\n",
       "70+        0\n",
       "dtype: int64"
      ]
     },
     "execution_count": 61,
     "metadata": {},
     "output_type": "execute_result"
    }
   ],
   "source": [
    "DS_jobs[DS_jobs['job_title']=='Business Analyst'].groupby('salary_range').size()"
   ]
  },
  {
   "cell_type": "code",
   "execution_count": 62,
   "id": "62fb5ca4",
   "metadata": {
    "scrolled": true
   },
   "outputs": [
    {
     "data": {
      "text/plain": [
       "salary_range\n",
       "0-10     73\n",
       "10-20    99\n",
       "20-30    15\n",
       "30-40     0\n",
       "40-50     1\n",
       "50-60     0\n",
       "60-70     0\n",
       "70+       0\n",
       "dtype: int64"
      ]
     },
     "execution_count": 62,
     "metadata": {},
     "output_type": "execute_result"
    }
   ],
   "source": [
    "DS_jobs[DS_jobs['job_title']=='Data Engineer'].groupby('salary_range').size()"
   ]
  },
  {
   "cell_type": "code",
   "execution_count": 63,
   "id": "c9514ff9",
   "metadata": {},
   "outputs": [
    {
     "data": {
      "text/plain": [
       "salary_range\n",
       "0-10     168\n",
       "10-20     19\n",
       "20-30      0\n",
       "30-40      0\n",
       "40-50      0\n",
       "50-60      0\n",
       "60-70      0\n",
       "70+        0\n",
       "dtype: int64"
      ]
     },
     "execution_count": 63,
     "metadata": {},
     "output_type": "execute_result"
    }
   ],
   "source": [
    "DS_jobs[DS_jobs['job_title']=='Data Analyst'].groupby('salary_range').size()"
   ]
  },
  {
   "cell_type": "markdown",
   "id": "91e3f3b4",
   "metadata": {},
   "source": [
    "### 7. Which job titles or companies contribute to the extreme salary values (high/low)"
   ]
  },
  {
   "cell_type": "code",
   "execution_count": 64,
   "id": "f4538fb0",
   "metadata": {},
   "outputs": [
    {
     "name": "stdout",
     "output_type": "stream",
     "text": [
      "job_title\n",
      "Business Analyst              2\n",
      "Data Analyst                  8\n",
      "Data Architect                1\n",
      "Data Engineer                12\n",
      "Data Scientist                8\n",
      "Machine Learning Engineer     2\n",
      "Senior Business Analyst       3\n",
      "Senior Data Analyst           2\n",
      "Senior Data Engineer          5\n",
      "Senior Data Scientist        10\n",
      "dtype: int64\n"
     ]
    },
    {
     "data": {
      "image/png": "[encoded data removed]",
      "text/plain": [
       "<Figure size 640x480 with 1 Axes>"
      ]
     },
     "metadata": {},
     "output_type": "display_data"
    }
   ],
   "source": [
    "grp = DS_jobs.groupby('job_title')  # Group by 'min_experience'\n",
    "# in grp variable there is two this are stored in form of dictionary keys are experiance and values ae rows falls under that keys \n",
    "#  by runing loop we have stored keys in exp_level and rows in in rows\n",
    "outliers_df = pd.DataFrame()  # Empty DataFrame to store all outliers\n",
    "\n",
    "# Iterate over the grouped data\n",
    "for exp_level, rows in grp:\n",
    "    Q1 = rows['avg_salary'].quantile(0.25)  # First Quartile\n",
    "    Q3 = rows['avg_salary'].quantile(0.75)  # Third Quartile\n",
    "#     here we have iterated values(group) i.e rows and specific column i.e avg_salary column\n",
    "    IQR = Q3 - Q1  # Interquartile Range\n",
    "\n",
    "    # Define the bounds\n",
    "    lower_bound = Q1 - 1.5 * IQR\n",
    "    upper_bound = Q3 + 1.5 * IQR\n",
    "\n",
    "    # Identify outliers\n",
    "    outliers = rows[(rows['avg_salary'] < lower_bound) | (rows['avg_salary'] > upper_bound)]\n",
    "\n",
    "    # Append the outliers to the final DataFrame\n",
    "    outliers_df = pd.concat([outliers_df, outliers])\n",
    "#     print(exp_level,lower_bound)\n",
    "#     print(exp_level,upper_bound)\n",
    "    \n",
    "# Display all outliers\n",
    "extreme=outliers_df[['job_title','avg_salary']]\n",
    "print(extreme.groupby('job_title').size())\n",
    "\n",
    "\n",
    "# Display Extream gap bw avg salary and maximum salary than other's salary gap\n",
    "# extreme_avg_salary_jobs=outliers[['job_title','avg_salary']].reset_index(drop=True)\n",
    "# print(extreme_avg_salary_jobs.groupby('job_title')['avg_salary'].count())\n",
    "sns.boxplot(x='avg_salary',y='job_title',data=DS_jobs)\n",
    "plt.show()"
   ]
  },
  {
   "cell_type": "code",
   "execution_count": 65,
   "id": "cc7e7d27",
   "metadata": {},
   "outputs": [
    {
     "name": "stdout",
     "output_type": "stream",
     "text": [
      "company_name\n",
      "Accenture                                     1\n",
      "BCG                                           1\n",
      "Bajaj Finserv                                 1\n",
      "Barclays                                      1\n",
      "Cerner                                        1\n",
      "Cgi Group                                     1\n",
      "Citibank                                      2\n",
      "Citicorp                                      1\n",
      "Coforge                                       1\n",
      "Dell                                          1\n",
      "Deloitte                                      1\n",
      "Ericsson                                      1\n",
      "Fidelity National Information Services        1\n",
      "First Source                                  1\n",
      "Fiserv                                        1\n",
      "Flipkart                                      1\n",
      "GEP Worldwide                                 1\n",
      "HDFC Bank                                     1\n",
      "HSBC                                          1\n",
      "Hexaware Technologies                         2\n",
      "IQVIA                                         1\n",
      "ITC Infotech India                            1\n",
      "Infosys                                       1\n",
      "L&T Infotech                                  3\n",
      "Legato Health Technologies                    1\n",
      "McKinsey & Company                            1\n",
      "Mercedes-Benz Research & Development India    1\n",
      "Mphasis                                       1\n",
      "Mu Sigma                                      1\n",
      "NTT DATA                                      1\n",
      "Novartis Healthcare                           1\n",
      "Optum                                         1\n",
      "Oyo Rooms                                     1\n",
      "PayPal                                        1\n",
      "Persistent Systems                            1\n",
      "Reliance jio                                  1\n",
      "Synechron                                     1\n",
      "Tiger Analytics                               2\n",
      "Tredence                                      1\n",
      "UST                                           1\n",
      "Verizon                                       1\n",
      "WNS                                           1\n",
      "Wells Fargo India                             1\n",
      "eClerx                                        1\n",
      "dtype: int64\n"
     ]
    }
   ],
   "source": [
    "grp = DS_jobs.groupby('company_name')  # Group by 'min_experience'\n",
    "# in grp variable there is two this are stored in form of dictionary keys are experiance and values ae rows falls under that keys \n",
    "#  by runing loop we have stored keys in exp_level and rows in in rows\n",
    "outliers_df = pd.DataFrame()  # Empty DataFrame to store all outliers\n",
    "\n",
    "# Iterate over the grouped data\n",
    "for exp_level, rows in grp:\n",
    "    Q1 = rows['avg_salary'].quantile(0.25)  # First Quartile\n",
    "    Q3 = rows['avg_salary'].quantile(0.75)  # Third Quartile\n",
    "#     here we have iterated values(group) i.e rows and specific column i.e avg_salary column\n",
    "    IQR = Q3 - Q1  # Interquartile Range\n",
    "\n",
    "    # Define the bounds\n",
    "    lower_bound = Q1 - 1.5 * IQR\n",
    "    upper_bound = Q3 + 1.5 * IQR\n",
    "\n",
    "    # Identify outliers\n",
    "    outliers = rows[(rows['avg_salary'] < lower_bound) | (rows['avg_salary'] > upper_bound)]\n",
    "\n",
    "    # Append the outliers to the final DataFrame\n",
    "    outliers_df = pd.concat([outliers_df, outliers])\n",
    "#     print(exp_level,lower_bound)\n",
    "#     print(exp_level,upper_bound)\n",
    "    \n",
    "# Display all outliers\n",
    "extreme=outliers_df[['company_name','avg_salary']]\n",
    "print(extreme.groupby('company_name').size())\n",
    "\n",
    "#### box plot not ploted as so many company in data"
   ]
  },
  {
   "cell_type": "markdown",
   "id": "fd75e39c",
   "metadata": {},
   "source": [
    "### Above code is to identify the outliers withing a company\n",
    "#### applies different bounds for each company. A salary that is an outlier globally might not be an outlier within its company's context ."
   ]
  },
  {
   "cell_type": "markdown",
   "id": "7d7d2dad",
   "metadata": {},
   "source": [
    "### Below code is to identify outlier from whole dataset\n",
    "#### applies the same global bounds to all companies. This may result in identifying some companies as having outliers that wouldn't be considered outliers within their group."
   ]
  },
  {
   "cell_type": "code",
   "execution_count": 66,
   "id": "56bb36ad",
   "metadata": {
    "scrolled": true
   },
   "outputs": [
    {
     "data": {
      "text/plain": [
       "company_name\n",
       "Adobe                             2\n",
       "Amazon                            2\n",
       "Apple                             1\n",
       "Automatic Data Processing         2\n",
       "Bajaj Finserv                     1\n",
       "Blue Yonder                       1\n",
       "Chegg                             1\n",
       "Commonwealth Bank of Australia    2\n",
       "Emirates Airlines                 1\n",
       "Expedia                           1\n",
       "Fidelity International            1\n",
       "Flipkart                          1\n",
       "Freelance Consultants             1\n",
       "Google                            1\n",
       "Hitachi                           1\n",
       "Innova Solutions                  1\n",
       "Intuit                            1\n",
       "JP Morgan Chase                   1\n",
       "Koch Business Solutions           1\n",
       "Kyndryl                           1\n",
       "MSCI                              1\n",
       "Microsoft Corporation             2\n",
       "PayPal                            1\n",
       "Paytm                             1\n",
       "PepsiCo                           1\n",
       "Roche Diagnostics                 1\n",
       "SAP                               1\n",
       "Samsung Research                  1\n",
       "Shell                             1\n",
       "T-Systems                         1\n",
       "Uber                              1\n",
       "Walmart                           2\n",
       "Yodlee                            1\n",
       "Name: avg_salary, dtype: int64"
      ]
     },
     "execution_count": 66,
     "metadata": {},
     "output_type": "execute_result"
    }
   ],
   "source": [
    "Q1 = DS_jobs['avg_salary'].quantile(0.25)\n",
    "Q3 = DS_jobs['avg_salary'].quantile(0.75)\n",
    "IQR = Q3 - Q1\n",
    "\n",
    "# Calculate the bounds for outliers\n",
    "lower_bound = Q1 - 1.5 * IQR\n",
    "upper_bound = Q3 + 1.5 * IQR\n",
    "\n",
    "# Filter the outliers\n",
    "outliers = DS_jobs[(DS_jobs['avg_salary'] < lower_bound) | (DS_jobs['avg_salary'] > upper_bound)]\n",
    "\n",
    "# Display Extream gap bw avg salary and maximum salary than other's salary gap\n",
    "extreme_avg_salary_co=outliers[['company_name','avg_salary']].reset_index(drop=True)\n",
    "extreme_avg_salary_co.groupby('company_name')['avg_salary'].size()"
   ]
  },
  {
   "cell_type": "markdown",
   "id": "66f1b41b",
   "metadata": {},
   "source": [
    "### Are there significant differences in salary distributions for jobs with the same title but different companies?"
   ]
  },
  {
   "cell_type": "code",
   "execution_count": 69,
   "id": "2a2721b3",
   "metadata": {
    "scrolled": true
   },
   "outputs": [
    {
     "data": {
      "text/html": [
       "<div>\n",
       "<style scoped>\n",
       "    .dataframe tbody tr th:only-of-type {\n",
       "        vertical-align: middle;\n",
       "    }\n",
       "\n",
       "    .dataframe tbody tr th {\n",
       "        vertical-align: top;\n",
       "    }\n",
       "\n",
       "    .dataframe thead th {\n",
       "        text-align: right;\n",
       "    }\n",
       "</style>\n",
       "<table border=\"1\" class=\"dataframe\">\n",
       "  <thead>\n",
       "    <tr style=\"text-align: right;\">\n",
       "      <th></th>\n",
       "      <th>company_name</th>\n",
       "      <th>job_title</th>\n",
       "      <th>min_experience</th>\n",
       "      <th>avg_salary</th>\n",
       "      <th>min_salary</th>\n",
       "      <th>max_salary</th>\n",
       "      <th>num_of_salaries</th>\n",
       "      <th>label_to_experiance</th>\n",
       "      <th>salary_range</th>\n",
       "      <th>diff_bw_avg_min</th>\n",
       "      <th>diff_bw_avg_max</th>\n",
       "    </tr>\n",
       "  </thead>\n",
       "  <tbody>\n",
       "    <tr>\n",
       "      <th>0</th>\n",
       "      <td>TCS</td>\n",
       "      <td>Data Scientist</td>\n",
       "      <td>2</td>\n",
       "      <td>780000.00</td>\n",
       "      <td>450000.00</td>\n",
       "      <td>1600000.00</td>\n",
       "      <td>841</td>\n",
       "      <td>Entry-Level</td>\n",
       "      <td>0-10</td>\n",
       "      <td>330000.00</td>\n",
       "      <td>820000.00</td>\n",
       "    </tr>\n",
       "    <tr>\n",
       "      <th>1</th>\n",
       "      <td>Accenture</td>\n",
       "      <td>Data Scientist</td>\n",
       "      <td>2</td>\n",
       "      <td>1280000.00</td>\n",
       "      <td>580000.00</td>\n",
       "      <td>2300000.00</td>\n",
       "      <td>501</td>\n",
       "      <td>Entry-Level</td>\n",
       "      <td>10-20</td>\n",
       "      <td>700000.00</td>\n",
       "      <td>1020000.00</td>\n",
       "    </tr>\n",
       "  </tbody>\n",
       "</table>\n",
       "</div>"
      ],
      "text/plain": [
       "  company_name       job_title  min_experience  avg_salary  min_salary  \\\n",
       "0          TCS  Data Scientist               2   780000.00   450000.00   \n",
       "1    Accenture  Data Scientist               2  1280000.00   580000.00   \n",
       "\n",
       "   max_salary  num_of_salaries label_to_experiance salary_range  \\\n",
       "0  1600000.00              841         Entry-Level         0-10   \n",
       "1  2300000.00              501         Entry-Level        10-20   \n",
       "\n",
       "   diff_bw_avg_min  diff_bw_avg_max  \n",
       "0        330000.00        820000.00  \n",
       "1        700000.00       1020000.00  "
      ]
     },
     "execution_count": 69,
     "metadata": {},
     "output_type": "execute_result"
    }
   ],
   "source": [
    "# same title diffrent companies\n",
    "DS_jobs.head(2)"
   ]
  },
  {
   "cell_type": "code",
   "execution_count": 85,
   "id": "ed10aea0",
   "metadata": {},
   "outputs": [
    {
     "data": {
      "text/html": [
       "<div>\n",
       "<style scoped>\n",
       "    .dataframe tbody tr th:only-of-type {\n",
       "        vertical-align: middle;\n",
       "    }\n",
       "\n",
       "    .dataframe tbody tr th {\n",
       "        vertical-align: top;\n",
       "    }\n",
       "\n",
       "    .dataframe thead th {\n",
       "        text-align: right;\n",
       "    }\n",
       "</style>\n",
       "<table border=\"1\" class=\"dataframe\">\n",
       "  <thead>\n",
       "    <tr style=\"text-align: right;\">\n",
       "      <th></th>\n",
       "      <th>company_name</th>\n",
       "      <th>job_title</th>\n",
       "      <th>min_experience</th>\n",
       "      <th>avg_salary</th>\n",
       "      <th>min_salary</th>\n",
       "      <th>max_salary</th>\n",
       "      <th>num_of_salaries</th>\n",
       "      <th>label_to_experiance</th>\n",
       "      <th>salary_range</th>\n",
       "      <th>diff_bw_avg_min</th>\n",
       "      <th>diff_bw_avg_max</th>\n",
       "    </tr>\n",
       "  </thead>\n",
       "  <tbody>\n",
       "    <tr>\n",
       "      <th>210</th>\n",
       "      <td>Shell</td>\n",
       "      <td>Business Analyst</td>\n",
       "      <td>4</td>\n",
       "      <td>1950000.00</td>\n",
       "      <td>1200000.00</td>\n",
       "      <td>3000000.00</td>\n",
       "      <td>258</td>\n",
       "      <td>Mid-Level</td>\n",
       "      <td>10-20</td>\n",
       "      <td>750000.00</td>\n",
       "      <td>1050000.00</td>\n",
       "    </tr>\n",
       "    <tr>\n",
       "      <th>225</th>\n",
       "      <td>NetCracker</td>\n",
       "      <td>Business Analyst</td>\n",
       "      <td>5</td>\n",
       "      <td>1870000.00</td>\n",
       "      <td>1200000.00</td>\n",
       "      <td>2800000.00</td>\n",
       "      <td>159</td>\n",
       "      <td>Mid-Level</td>\n",
       "      <td>10-20</td>\n",
       "      <td>670000.00</td>\n",
       "      <td>930000.00</td>\n",
       "    </tr>\n",
       "  </tbody>\n",
       "</table>\n",
       "</div>"
      ],
      "text/plain": [
       "    company_name         job_title  min_experience  avg_salary  min_salary  \\\n",
       "210        Shell  Business Analyst               4  1950000.00  1200000.00   \n",
       "225   NetCracker  Business Analyst               5  1870000.00  1200000.00   \n",
       "\n",
       "     max_salary  num_of_salaries label_to_experiance salary_range  \\\n",
       "210  3000000.00              258           Mid-Level        10-20   \n",
       "225  2800000.00              159           Mid-Level        10-20   \n",
       "\n",
       "     diff_bw_avg_min  diff_bw_avg_max  \n",
       "210        750000.00       1050000.00  \n",
       "225        670000.00        930000.00  "
      ]
     },
     "execution_count": 85,
     "metadata": {},
     "output_type": "execute_result"
    }
   ],
   "source": [
    "B_A=DS_jobs[DS_jobs['job_title']=='Business Analyst']\n",
    "B_A[['company_name','job_title','avg_salary']]\n",
    "# we can do like 1st get averae of average/median and copare with salary at each company and find the outliers from that\n",
    "\n",
    "Q1=B_A['avg_salary'].quantile(0.25)\n",
    "Q3=B_A['avg_salary'].quantile(0.75)\n",
    "IQR=Q3-Q1\n",
    "\n",
    "# Define the bounds\n",
    "lower_bound = Q1 - 1.5 * IQR\n",
    "upper_bound = Q3 + 1.5 * IQR\n",
    "\n",
    "# Identify outliers\n",
    "outliers_B_A = B_A[(B_A['avg_salary'] < lower_bound) | (B_A['avg_salary'] > upper_bound)]\n",
    "outliers_B_A"
   ]
  }
 ],
 "metadata": {
  "kernelspec": {
   "display_name": "Python 3 (ipykernel)",
   "language": "python",
   "name": "python3"
  },
  "language_info": {
   "codemirror_mode": {
    "name": "ipython",
    "version": 3
   },
   "file_extension": ".py",
   "mimetype": "text/x-python",
   "name": "python",
   "nbconvert_exporter": "python",
   "pygments_lexer": "ipython3",
   "version": "3.10.9"
  }
 },
 "nbformat": 4,
 "nbformat_minor": 5
}
